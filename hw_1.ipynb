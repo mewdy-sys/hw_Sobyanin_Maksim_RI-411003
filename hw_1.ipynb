{
  "nbformat": 4,
  "nbformat_minor": 0,
  "metadata": {
    "colab": {
      "provenance": [],
      "gpuType": "T4"
    },
    "kernelspec": {
      "name": "python3",
      "display_name": "Python 3"
    },
    "language_info": {
      "name": "python"
    },
    "accelerator": "GPU"
  },
  "cells": [
    {
      "cell_type": "markdown",
      "source": [
        "Собянин Максим Андреевич, РИ-411003"
      ],
      "metadata": {
        "id": "E5FYzaHTmyJA"
      }
    },
    {
      "cell_type": "code",
      "execution_count": 1,
      "metadata": {
        "colab": {
          "base_uri": "https://localhost:8080/"
        },
        "id": "J4_4Sblvld3P",
        "outputId": "66dc4dc0-4fb0-4d5e-9b70-2256712c10db"
      },
      "outputs": [
        {
          "output_type": "stream",
          "name": "stdout",
          "text": [
            "Housing.csv  \u001b[0m\u001b[01;34msample_data\u001b[0m/  train.csv\n"
          ]
        }
      ],
      "source": [
        "ls"
      ]
    },
    {
      "cell_type": "code",
      "source": [
        "!pip install bottleneck\n",
        "import pandas as pd\n",
        "import polars as pl"
      ],
      "metadata": {
        "id": "BQyMJrBzlqzP",
        "colab": {
          "base_uri": "https://localhost:8080/"
        },
        "outputId": "1341a56a-0dcb-4dd7-9293-a3f6d75649e8"
      },
      "execution_count": 2,
      "outputs": [
        {
          "output_type": "stream",
          "name": "stdout",
          "text": [
            "Requirement already satisfied: bottleneck in /usr/local/lib/python3.10/dist-packages (1.4.2)\n",
            "Requirement already satisfied: numpy in /usr/local/lib/python3.10/dist-packages (from bottleneck) (1.26.4)\n"
          ]
        }
      ]
    },
    {
      "cell_type": "markdown",
      "source": [
        "###Polars"
      ],
      "metadata": {
        "id": "QNzTEfxjnEtO"
      }
    },
    {
      "cell_type": "markdown",
      "source": [
        "1. Считайте датасет из файла train.csv (это данные о выживаемости на Титанике) с помощью polars"
      ],
      "metadata": {
        "id": "zu2054jhmwLP"
      }
    },
    {
      "cell_type": "code",
      "source": [
        "df = pl.read_csv('train.csv')"
      ],
      "metadata": {
        "id": "pZiM7VdJlrEm"
      },
      "execution_count": 3,
      "outputs": []
    },
    {
      "cell_type": "markdown",
      "source": [
        "2. Выведите основную информацию о датасете: информацию о типах данных, число пропусков, средние значения и т.д."
      ],
      "metadata": {
        "id": "I-B-8VsZm3bG"
      }
    },
    {
      "cell_type": "code",
      "source": [
        "print('Первые несколько строк: \\n', df.head())\n",
        "print('Размер (строки, столбцы): \\n', df.shape)\n",
        "print('Список столбцов: \\n', df.columns)\n",
        "print('Типы данных в каждом столбце: \\n', df.dtypes)\n",
        "print('Основная статистика для каждого столбца: \\n', df.describe())\n",
        "print('Пропуски :\\n',df.null_count().sum())"
      ],
      "metadata": {
        "colab": {
          "base_uri": "https://localhost:8080/"
        },
        "id": "zjo4KMEGlrO6",
        "outputId": "e8c5b20b-6a43-4068-a247-127824359b65"
      },
      "execution_count": 4,
      "outputs": [
        {
          "output_type": "stream",
          "name": "stdout",
          "text": [
            "Первые несколько строк: \n",
            " shape: (5, 12)\n",
            "┌─────────────┬──────────┬────────┬───────────────────┬───┬───────────┬─────────┬───────┬──────────┐\n",
            "│ PassengerId ┆ Survived ┆ Pclass ┆ Name              ┆ … ┆ Ticket    ┆ Fare    ┆ Cabin ┆ Embarked │\n",
            "│ ---         ┆ ---      ┆ ---    ┆ ---               ┆   ┆ ---       ┆ ---     ┆ ---   ┆ ---      │\n",
            "│ i64         ┆ i64      ┆ i64    ┆ str               ┆   ┆ str       ┆ f64     ┆ str   ┆ str      │\n",
            "╞═════════════╪══════════╪════════╪═══════════════════╪═══╪═══════════╪═════════╪═══════╪══════════╡\n",
            "│ 1           ┆ 0        ┆ 3      ┆ Braund, Mr. Owen  ┆ … ┆ A/5 21171 ┆ 7.25    ┆ null  ┆ S        │\n",
            "│             ┆          ┆        ┆ Harris            ┆   ┆           ┆         ┆       ┆          │\n",
            "│ 2           ┆ 1        ┆ 1      ┆ Cumings, Mrs.     ┆ … ┆ PC 17599  ┆ 71.2833 ┆ C85   ┆ C        │\n",
            "│             ┆          ┆        ┆ John Bradley (Fl… ┆   ┆           ┆         ┆       ┆          │\n",
            "│ 3           ┆ 1        ┆ 3      ┆ Heikkinen, Miss.  ┆ … ┆ STON/O2.  ┆ 7.925   ┆ null  ┆ S        │\n",
            "│             ┆          ┆        ┆ Laina             ┆   ┆ 3101282   ┆         ┆       ┆          │\n",
            "│ 4           ┆ 1        ┆ 1      ┆ Futrelle, Mrs.    ┆ … ┆ 113803    ┆ 53.1    ┆ C123  ┆ S        │\n",
            "│             ┆          ┆        ┆ Jacques Heath (…  ┆   ┆           ┆         ┆       ┆          │\n",
            "│ 5           ┆ 0        ┆ 3      ┆ Allen, Mr.        ┆ … ┆ 373450    ┆ 8.05    ┆ null  ┆ S        │\n",
            "│             ┆          ┆        ┆ William Henry     ┆   ┆           ┆         ┆       ┆          │\n",
            "└─────────────┴──────────┴────────┴───────────────────┴───┴───────────┴─────────┴───────┴──────────┘\n",
            "Размер (строки, столбцы): \n",
            " (891, 12)\n",
            "Список столбцов: \n",
            " ['PassengerId', 'Survived', 'Pclass', 'Name', 'Sex', 'Age', 'SibSp', 'Parch', 'Ticket', 'Fare', 'Cabin', 'Embarked']\n",
            "Типы данных в каждом столбце: \n",
            " [Int64, Int64, Int64, String, String, Float64, Int64, Int64, String, Float64, String, String]\n",
            "Основная статистика для каждого столбца: \n",
            " shape: (9, 13)\n",
            "┌────────────┬─────────────┬──────────┬──────────┬───┬───────────┬───────────┬───────┬──────────┐\n",
            "│ statistic  ┆ PassengerId ┆ Survived ┆ Pclass   ┆ … ┆ Ticket    ┆ Fare      ┆ Cabin ┆ Embarked │\n",
            "│ ---        ┆ ---         ┆ ---      ┆ ---      ┆   ┆ ---       ┆ ---       ┆ ---   ┆ ---      │\n",
            "│ str        ┆ f64         ┆ f64      ┆ f64      ┆   ┆ str       ┆ f64       ┆ str   ┆ str      │\n",
            "╞════════════╪═════════════╪══════════╪══════════╪═══╪═══════════╪═══════════╪═══════╪══════════╡\n",
            "│ count      ┆ 891.0       ┆ 891.0    ┆ 891.0    ┆ … ┆ 891       ┆ 891.0     ┆ 204   ┆ 889      │\n",
            "│ null_count ┆ 0.0         ┆ 0.0      ┆ 0.0      ┆ … ┆ 0         ┆ 0.0       ┆ 687   ┆ 2        │\n",
            "│ mean       ┆ 446.0       ┆ 0.383838 ┆ 2.308642 ┆ … ┆ null      ┆ 32.204208 ┆ null  ┆ null     │\n",
            "│ std        ┆ 257.353842  ┆ 0.486592 ┆ 0.836071 ┆ … ┆ null      ┆ 49.693429 ┆ null  ┆ null     │\n",
            "│ min        ┆ 1.0         ┆ 0.0      ┆ 1.0      ┆ … ┆ 110152    ┆ 0.0       ┆ A10   ┆ C        │\n",
            "│ 25%        ┆ 224.0       ┆ 0.0      ┆ 2.0      ┆ … ┆ null      ┆ 7.925     ┆ null  ┆ null     │\n",
            "│ 50%        ┆ 446.0       ┆ 0.0      ┆ 3.0      ┆ … ┆ null      ┆ 14.4542   ┆ null  ┆ null     │\n",
            "│ 75%        ┆ 669.0       ┆ 1.0      ┆ 3.0      ┆ … ┆ null      ┆ 31.0      ┆ null  ┆ null     │\n",
            "│ max        ┆ 891.0       ┆ 1.0      ┆ 3.0      ┆ … ┆ WE/P 5735 ┆ 512.3292  ┆ T     ┆ S        │\n",
            "└────────────┴─────────────┴──────────┴──────────┴───┴───────────┴───────────┴───────┴──────────┘\n",
            "Пропуски :\n",
            " shape: (1, 12)\n",
            "┌─────────────┬──────────┬────────┬──────┬───┬────────┬──────┬───────┬──────────┐\n",
            "│ PassengerId ┆ Survived ┆ Pclass ┆ Name ┆ … ┆ Ticket ┆ Fare ┆ Cabin ┆ Embarked │\n",
            "│ ---         ┆ ---      ┆ ---    ┆ ---  ┆   ┆ ---    ┆ ---  ┆ ---   ┆ ---      │\n",
            "│ u32         ┆ u32      ┆ u32    ┆ u32  ┆   ┆ u32    ┆ u32  ┆ u32   ┆ u32      │\n",
            "╞═════════════╪══════════╪════════╪══════╪═══╪════════╪══════╪═══════╪══════════╡\n",
            "│ 0           ┆ 0        ┆ 0      ┆ 0    ┆ … ┆ 0      ┆ 0    ┆ 687   ┆ 2        │\n",
            "└─────────────┴──────────┴────────┴──────┴───┴────────┴──────┴───────┴──────────┘\n"
          ]
        }
      ]
    },
    {
      "cell_type": "markdown",
      "source": [
        "3. Посчитайте количество пассажиров каждого класса (Pclass)"
      ],
      "metadata": {
        "id": "-rZDSjMum7SN"
      }
    },
    {
      "cell_type": "code",
      "source": [
        "print(df[\"Pclass\"].value_counts())"
      ],
      "metadata": {
        "colab": {
          "base_uri": "https://localhost:8080/"
        },
        "id": "hXSFSUFIlrYZ",
        "outputId": "24e723f9-4048-4d05-d639-5829c87a6b25"
      },
      "execution_count": 5,
      "outputs": [
        {
          "output_type": "stream",
          "name": "stdout",
          "text": [
            "shape: (3, 2)\n",
            "┌────────┬───────┐\n",
            "│ Pclass ┆ count │\n",
            "│ ---    ┆ ---   │\n",
            "│ i64    ┆ u32   │\n",
            "╞════════╪═══════╡\n",
            "│ 1      ┆ 216   │\n",
            "│ 2      ┆ 184   │\n",
            "│ 3      ┆ 491   │\n",
            "└────────┴───────┘\n"
          ]
        }
      ]
    },
    {
      "cell_type": "markdown",
      "source": [
        "4. Выведите количество выживших мужчин и женщин на корабле"
      ],
      "metadata": {
        "id": "crQT5g8Hm9n-"
      }
    },
    {
      "cell_type": "code",
      "source": [
        "df.filter(pl.col(\"Survived\") == 1).group_by(\"Sex\").len()"
      ],
      "metadata": {
        "colab": {
          "base_uri": "https://localhost:8080/",
          "height": 161
        },
        "id": "sR4aKPdIlrg5",
        "outputId": "295087af-ce7a-469a-d34a-9c76dfedeb90"
      },
      "execution_count": 6,
      "outputs": [
        {
          "output_type": "execute_result",
          "data": {
            "text/plain": [
              "shape: (2, 2)\n",
              "┌────────┬─────┐\n",
              "│ Sex    ┆ len │\n",
              "│ ---    ┆ --- │\n",
              "│ str    ┆ u32 │\n",
              "╞════════╪═════╡\n",
              "│ female ┆ 233 │\n",
              "│ male   ┆ 109 │\n",
              "└────────┴─────┘"
            ],
            "text/html": [
              "<div><style>\n",
              ".dataframe > thead > tr,\n",
              ".dataframe > tbody > tr {\n",
              "  text-align: right;\n",
              "  white-space: pre-wrap;\n",
              "}\n",
              "</style>\n",
              "<small>shape: (2, 2)</small><table border=\"1\" class=\"dataframe\"><thead><tr><th>Sex</th><th>len</th></tr><tr><td>str</td><td>u32</td></tr></thead><tbody><tr><td>&quot;female&quot;</td><td>233</td></tr><tr><td>&quot;male&quot;</td><td>109</td></tr></tbody></table></div>"
            ]
          },
          "metadata": {},
          "execution_count": 6
        }
      ]
    },
    {
      "cell_type": "markdown",
      "source": [
        "5. Выведите часть таблицы с пассажирами, возраст которых больше 44 лет"
      ],
      "metadata": {
        "id": "dC39J0RmnATJ"
      }
    },
    {
      "cell_type": "code",
      "source": [
        "df.filter(pl.col(\"Age\") > 44)"
      ],
      "metadata": {
        "colab": {
          "base_uri": "https://localhost:8080/",
          "height": 443
        },
        "id": "U3Gov1lMlrpE",
        "outputId": "066dbf62-ef3d-4169-8ed9-ab7055600932"
      },
      "execution_count": 7,
      "outputs": [
        {
          "output_type": "execute_result",
          "data": {
            "text/plain": [
              "shape: (115, 12)\n",
              "┌─────────────┬──────────┬────────┬──────────────────┬───┬────────────┬─────────┬───────┬──────────┐\n",
              "│ PassengerId ┆ Survived ┆ Pclass ┆ Name             ┆ … ┆ Ticket     ┆ Fare    ┆ Cabin ┆ Embarked │\n",
              "│ ---         ┆ ---      ┆ ---    ┆ ---              ┆   ┆ ---        ┆ ---     ┆ ---   ┆ ---      │\n",
              "│ i64         ┆ i64      ┆ i64    ┆ str              ┆   ┆ str        ┆ f64     ┆ str   ┆ str      │\n",
              "╞═════════════╪══════════╪════════╪══════════════════╪═══╪════════════╪═════════╪═══════╪══════════╡\n",
              "│ 7           ┆ 0        ┆ 1      ┆ McCarthy, Mr.    ┆ … ┆ 17463      ┆ 51.8625 ┆ E46   ┆ S        │\n",
              "│             ┆          ┆        ┆ Timothy J        ┆   ┆            ┆         ┆       ┆          │\n",
              "│ 12          ┆ 1        ┆ 1      ┆ Bonnell, Miss.   ┆ … ┆ 113783     ┆ 26.55   ┆ C103  ┆ S        │\n",
              "│             ┆          ┆        ┆ Elizabeth        ┆   ┆            ┆         ┆       ┆          │\n",
              "│ 16          ┆ 1        ┆ 2      ┆ Hewlett, Mrs.    ┆ … ┆ 248706     ┆ 16.0    ┆ null  ┆ S        │\n",
              "│             ┆          ┆        ┆ (Mary D          ┆   ┆            ┆         ┆       ┆          │\n",
              "│             ┆          ┆        ┆ Kingcome…        ┆   ┆            ┆         ┆       ┆          │\n",
              "│ 34          ┆ 0        ┆ 2      ┆ Wheadon, Mr.     ┆ … ┆ C.A. 24579 ┆ 10.5    ┆ null  ┆ S        │\n",
              "│             ┆          ┆        ┆ Edward H         ┆   ┆            ┆         ┆       ┆          │\n",
              "│ 53          ┆ 1        ┆ 1      ┆ Harper, Mrs.     ┆ … ┆ PC 17572   ┆ 76.7292 ┆ D33   ┆ C        │\n",
              "│             ┆          ┆        ┆ Henry Sleeper    ┆   ┆            ┆         ┆       ┆          │\n",
              "│             ┆          ┆        ┆ (My…             ┆   ┆            ┆         ┆       ┆          │\n",
              "│ …           ┆ …        ┆ …      ┆ …                ┆ … ┆ …          ┆ …       ┆ …     ┆ …        │\n",
              "│ 858         ┆ 1        ┆ 1      ┆ Daly, Mr. Peter  ┆ … ┆ 113055     ┆ 26.55   ┆ E17   ┆ S        │\n",
              "│             ┆          ┆        ┆ Denis            ┆   ┆            ┆         ┆       ┆          │\n",
              "│ 863         ┆ 1        ┆ 1      ┆ Swift, Mrs.      ┆ … ┆ 17466      ┆ 25.9292 ┆ D17   ┆ S        │\n",
              "│             ┆          ┆        ┆ Frederick Joel   ┆   ┆            ┆         ┆       ┆          │\n",
              "│             ┆          ┆        ┆ (Ma…             ┆   ┆            ┆         ┆       ┆          │\n",
              "│ 872         ┆ 1        ┆ 1      ┆ Beckwith, Mrs.   ┆ … ┆ 11751      ┆ 52.5542 ┆ D35   ┆ S        │\n",
              "│             ┆          ┆        ┆ Richard Leonard… ┆   ┆            ┆         ┆       ┆          │\n",
              "│ 874         ┆ 0        ┆ 3      ┆ Vander Cruyssen, ┆ … ┆ 345765     ┆ 9.0     ┆ null  ┆ S        │\n",
              "│             ┆          ┆        ┆ Mr. Victor       ┆   ┆            ┆         ┆       ┆          │\n",
              "│ 880         ┆ 1        ┆ 1      ┆ Potter, Mrs.     ┆ … ┆ 11767      ┆ 83.1583 ┆ C50   ┆ C        │\n",
              "│             ┆          ┆        ┆ Thomas Jr (Lily  ┆   ┆            ┆         ┆       ┆          │\n",
              "│             ┆          ┆        ┆ A…               ┆   ┆            ┆         ┆       ┆          │\n",
              "└─────────────┴──────────┴────────┴──────────────────┴───┴────────────┴─────────┴───────┴──────────┘"
            ],
            "text/html": [
              "<div><style>\n",
              ".dataframe > thead > tr,\n",
              ".dataframe > tbody > tr {\n",
              "  text-align: right;\n",
              "  white-space: pre-wrap;\n",
              "}\n",
              "</style>\n",
              "<small>shape: (115, 12)</small><table border=\"1\" class=\"dataframe\"><thead><tr><th>PassengerId</th><th>Survived</th><th>Pclass</th><th>Name</th><th>Sex</th><th>Age</th><th>SibSp</th><th>Parch</th><th>Ticket</th><th>Fare</th><th>Cabin</th><th>Embarked</th></tr><tr><td>i64</td><td>i64</td><td>i64</td><td>str</td><td>str</td><td>f64</td><td>i64</td><td>i64</td><td>str</td><td>f64</td><td>str</td><td>str</td></tr></thead><tbody><tr><td>7</td><td>0</td><td>1</td><td>&quot;McCarthy, Mr. Timothy J&quot;</td><td>&quot;male&quot;</td><td>54.0</td><td>0</td><td>0</td><td>&quot;17463&quot;</td><td>51.8625</td><td>&quot;E46&quot;</td><td>&quot;S&quot;</td></tr><tr><td>12</td><td>1</td><td>1</td><td>&quot;Bonnell, Miss. Elizabeth&quot;</td><td>&quot;female&quot;</td><td>58.0</td><td>0</td><td>0</td><td>&quot;113783&quot;</td><td>26.55</td><td>&quot;C103&quot;</td><td>&quot;S&quot;</td></tr><tr><td>16</td><td>1</td><td>2</td><td>&quot;Hewlett, Mrs. (Mary D Kingcome…</td><td>&quot;female&quot;</td><td>55.0</td><td>0</td><td>0</td><td>&quot;248706&quot;</td><td>16.0</td><td>null</td><td>&quot;S&quot;</td></tr><tr><td>34</td><td>0</td><td>2</td><td>&quot;Wheadon, Mr. Edward H&quot;</td><td>&quot;male&quot;</td><td>66.0</td><td>0</td><td>0</td><td>&quot;C.A. 24579&quot;</td><td>10.5</td><td>null</td><td>&quot;S&quot;</td></tr><tr><td>53</td><td>1</td><td>1</td><td>&quot;Harper, Mrs. Henry Sleeper (My…</td><td>&quot;female&quot;</td><td>49.0</td><td>1</td><td>0</td><td>&quot;PC 17572&quot;</td><td>76.7292</td><td>&quot;D33&quot;</td><td>&quot;C&quot;</td></tr><tr><td>&hellip;</td><td>&hellip;</td><td>&hellip;</td><td>&hellip;</td><td>&hellip;</td><td>&hellip;</td><td>&hellip;</td><td>&hellip;</td><td>&hellip;</td><td>&hellip;</td><td>&hellip;</td><td>&hellip;</td></tr><tr><td>858</td><td>1</td><td>1</td><td>&quot;Daly, Mr. Peter Denis &quot;</td><td>&quot;male&quot;</td><td>51.0</td><td>0</td><td>0</td><td>&quot;113055&quot;</td><td>26.55</td><td>&quot;E17&quot;</td><td>&quot;S&quot;</td></tr><tr><td>863</td><td>1</td><td>1</td><td>&quot;Swift, Mrs. Frederick Joel (Ma…</td><td>&quot;female&quot;</td><td>48.0</td><td>0</td><td>0</td><td>&quot;17466&quot;</td><td>25.9292</td><td>&quot;D17&quot;</td><td>&quot;S&quot;</td></tr><tr><td>872</td><td>1</td><td>1</td><td>&quot;Beckwith, Mrs. Richard Leonard…</td><td>&quot;female&quot;</td><td>47.0</td><td>1</td><td>1</td><td>&quot;11751&quot;</td><td>52.5542</td><td>&quot;D35&quot;</td><td>&quot;S&quot;</td></tr><tr><td>874</td><td>0</td><td>3</td><td>&quot;Vander Cruyssen, Mr. Victor&quot;</td><td>&quot;male&quot;</td><td>47.0</td><td>0</td><td>0</td><td>&quot;345765&quot;</td><td>9.0</td><td>null</td><td>&quot;S&quot;</td></tr><tr><td>880</td><td>1</td><td>1</td><td>&quot;Potter, Mrs. Thomas Jr (Lily A…</td><td>&quot;female&quot;</td><td>56.0</td><td>0</td><td>1</td><td>&quot;11767&quot;</td><td>83.1583</td><td>&quot;C50&quot;</td><td>&quot;C&quot;</td></tr></tbody></table></div>"
            ]
          },
          "metadata": {},
          "execution_count": 7
        }
      ]
    },
    {
      "cell_type": "markdown",
      "source": [
        "###Ускорение работы с pandas"
      ],
      "metadata": {
        "id": "giBZMngBnJo0"
      }
    },
    {
      "cell_type": "markdown",
      "source": [
        "1. Считайте датасет из файла train.csv (это данные о выживаемости на Титанике) с помощью pandas"
      ],
      "metadata": {
        "id": "-3zN7dd2nKVi"
      }
    },
    {
      "cell_type": "code",
      "source": [
        "df = pd.read_csv('train.csv')"
      ],
      "metadata": {
        "id": "N5PTlRXXnNkS"
      },
      "execution_count": 8,
      "outputs": []
    },
    {
      "cell_type": "markdown",
      "source": [
        "2. Посчитайте средний возраст пассажиров и его стандартное отклонение с помощью bottleneck"
      ],
      "metadata": {
        "id": "LlXkUUFMnN3L"
      }
    },
    {
      "cell_type": "code",
      "source": [
        "import bottleneck as bn\n",
        "mean_age = bn.nanmean(df['Age'])\n",
        "std_age = bn.nanstd(df['Age'])\n",
        "print(f'Средний возраст: {mean_age}, Стандартное отклонение: {std_age}')"
      ],
      "metadata": {
        "id": "MmetvEJHnP9_",
        "colab": {
          "base_uri": "https://localhost:8080/"
        },
        "outputId": "e61540eb-ee90-42a4-8524-e60cb9ffd9cc"
      },
      "execution_count": 9,
      "outputs": [
        {
          "output_type": "stream",
          "name": "stdout",
          "text": [
            "Средний возраст: 29.69911764705882, Стандартное отклонение: 14.516321150817317\n"
          ]
        }
      ]
    },
    {
      "cell_type": "markdown",
      "source": [
        "3. Для каждого пассажира умножьте значение столбца Fare на 1.3, если класс его билета - 1 или 2, и на 1.1, если класс его билета - 3. Сохраните результаты как новый столбец Fare_new. (При реализации расчета используйте любые альтернативы методу iterrows)"
      ],
      "metadata": {
        "id": "Acu8MhbinQNy"
      }
    },
    {
      "cell_type": "code",
      "source": [
        "import numpy as np\n",
        "\n",
        "# Условное умножение значений Fare\n",
        "df['Fare_new'] = np.where(df['Pclass'].isin([1, 2]), df['Fare'] * 1.3, df['Fare'] * 1.1)\n",
        "df['Fare_new']"
      ],
      "metadata": {
        "id": "t8x7m6mnnSod",
        "colab": {
          "base_uri": "https://localhost:8080/",
          "height": 458
        },
        "outputId": "501d9dcb-dd2e-4513-89f4-73c7f597597b"
      },
      "execution_count": 10,
      "outputs": [
        {
          "output_type": "execute_result",
          "data": {
            "text/plain": [
              "0       7.97500\n",
              "1      92.66829\n",
              "2       8.71750\n",
              "3      69.03000\n",
              "4       8.85500\n",
              "         ...   \n",
              "886    16.90000\n",
              "887    39.00000\n",
              "888    25.79500\n",
              "889    39.00000\n",
              "890     8.52500\n",
              "Name: Fare_new, Length: 891, dtype: float64"
            ],
            "text/html": [
              "<div>\n",
              "<style scoped>\n",
              "    .dataframe tbody tr th:only-of-type {\n",
              "        vertical-align: middle;\n",
              "    }\n",
              "\n",
              "    .dataframe tbody tr th {\n",
              "        vertical-align: top;\n",
              "    }\n",
              "\n",
              "    .dataframe thead th {\n",
              "        text-align: right;\n",
              "    }\n",
              "</style>\n",
              "<table border=\"1\" class=\"dataframe\">\n",
              "  <thead>\n",
              "    <tr style=\"text-align: right;\">\n",
              "      <th></th>\n",
              "      <th>Fare_new</th>\n",
              "    </tr>\n",
              "  </thead>\n",
              "  <tbody>\n",
              "    <tr>\n",
              "      <th>0</th>\n",
              "      <td>7.97500</td>\n",
              "    </tr>\n",
              "    <tr>\n",
              "      <th>1</th>\n",
              "      <td>92.66829</td>\n",
              "    </tr>\n",
              "    <tr>\n",
              "      <th>2</th>\n",
              "      <td>8.71750</td>\n",
              "    </tr>\n",
              "    <tr>\n",
              "      <th>3</th>\n",
              "      <td>69.03000</td>\n",
              "    </tr>\n",
              "    <tr>\n",
              "      <th>4</th>\n",
              "      <td>8.85500</td>\n",
              "    </tr>\n",
              "    <tr>\n",
              "      <th>...</th>\n",
              "      <td>...</td>\n",
              "    </tr>\n",
              "    <tr>\n",
              "      <th>886</th>\n",
              "      <td>16.90000</td>\n",
              "    </tr>\n",
              "    <tr>\n",
              "      <th>887</th>\n",
              "      <td>39.00000</td>\n",
              "    </tr>\n",
              "    <tr>\n",
              "      <th>888</th>\n",
              "      <td>25.79500</td>\n",
              "    </tr>\n",
              "    <tr>\n",
              "      <th>889</th>\n",
              "      <td>39.00000</td>\n",
              "    </tr>\n",
              "    <tr>\n",
              "      <th>890</th>\n",
              "      <td>8.52500</td>\n",
              "    </tr>\n",
              "  </tbody>\n",
              "</table>\n",
              "<p>891 rows × 1 columns</p>\n",
              "</div><br><label><b>dtype:</b> float64</label>"
            ]
          },
          "metadata": {},
          "execution_count": 10
        }
      ]
    },
    {
      "cell_type": "markdown",
      "source": [
        "###Оптимизация типов pandas"
      ],
      "metadata": {
        "id": "h4_jLpNTnVD9"
      }
    },
    {
      "cell_type": "markdown",
      "source": [
        "1. Считайте датасет из файла Housing.csv (это данные о ценах домов) с помощью pandas"
      ],
      "metadata": {
        "id": "XuCdZnN9nWAF"
      }
    },
    {
      "cell_type": "code",
      "source": [
        "df = pd.read_csv('Housing.csv')"
      ],
      "metadata": {
        "id": "74WZ0SaLnXob"
      },
      "execution_count": 11,
      "outputs": []
    },
    {
      "cell_type": "markdown",
      "source": [
        "2. Для каждого столбца определите оптимальный с точки зрения потребления памяти тип данных - напишите свои выводы в комментариях"
      ],
      "metadata": {
        "id": "0-SnP85knX5f"
      }
    },
    {
      "cell_type": "code",
      "source": [
        "'''\n",
        "price: целое число, int32 или int64 (в зависимости от диапазона).\n",
        "area: целое число, int32 или int64.\n",
        "bedrooms: целое число, uint8 (максимум 255).\n",
        "bathrooms: целое число, uint8 (максимум 255).\n",
        "stories: целое число, uint8 (максимум 255).\n",
        "mainroad: категориальная переменная, category.\n",
        "guestroom: категориальная переменная, category.\n",
        "basement: категориальная переменная, category.\n",
        "hotwaterheating: категориальная переменная, category.\n",
        "airconditioning: категориальная переменная, category.\n",
        "parking: целое число, uint8 (максимум 255).\n",
        "prefarea: категориальная переменная, category.\n",
        "furnishingstatus: категориальная переменная, category.\n",
        "'''"
      ],
      "metadata": {
        "id": "40MKnf4cnZ0o"
      },
      "execution_count": null,
      "outputs": []
    },
    {
      "cell_type": "markdown",
      "source": [
        "3. Поменяйте типы данных столбцов датафрейма на выбранные вами в прошлом пункте и сравните потребление памяти до и после оптимизации"
      ],
      "metadata": {
        "id": "V44aDI7InaCJ"
      }
    },
    {
      "cell_type": "code",
      "source": [
        "df_original = df.copy()\n",
        "\n",
        "df['price'] = df['price'].astype('int32')\n",
        "df['area'] = df['area'].astype('int32')\n",
        "df['bedrooms'] = df['bedrooms'].astype('uint8')\n",
        "df['bathrooms'] = df['bathrooms'].astype('uint8')\n",
        "df['stories'] = df['stories'].astype('uint8')\n",
        "df['mainroad'] = df['mainroad'].astype('category')\n",
        "df['guestroom'] = df['guestroom'].astype('category')\n",
        "df['basement'] = df['basement'].astype('category')\n",
        "df['hotwaterheating'] = df['hotwaterheating'].astype('category')\n",
        "df['airconditioning'] = df['airconditioning'].astype('category')\n",
        "df['parking'] = df['parking'].astype('uint8')\n",
        "df['prefarea'] = df['prefarea'].astype('category')\n",
        "df['furnishingstatus'] = df['furnishingstatus'].astype('category')\n",
        "\n",
        "memory_before = df_original.memory_usage().sum()\n",
        "memory_after = df.memory_usage().sum()\n",
        "\n",
        "print(f'Потребление памяти до оптимизации: {memory_before} байт')\n",
        "print(f'Потребление памяти после оптимизации: {memory_after} байт')\n",
        "print(f'Экономия памяти: {(memory_before - memory_after) / memory_before * 100:.2f}%')"
      ],
      "metadata": {
        "id": "rF857IAWncZ-",
        "colab": {
          "base_uri": "https://localhost:8080/"
        },
        "outputId": "8da490b6-f33e-49af-cfcc-2067666ddbda"
      },
      "execution_count": 12,
      "outputs": [
        {
          "output_type": "stream",
          "name": "stdout",
          "text": [
            "Потребление памяти до оптимизации: 56808 байт\n",
            "Потребление памяти после оптимизации: 11359 байт\n",
            "Экономия памяти: 80.00%\n"
          ]
        }
      ]
    }
  ]
}