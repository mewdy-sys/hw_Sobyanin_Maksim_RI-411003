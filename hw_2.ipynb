{
  "nbformat": 4,
  "nbformat_minor": 0,
  "metadata": {
    "colab": {
      "provenance": [],
      "gpuType": "T4"
    },
    "kernelspec": {
      "name": "python3",
      "display_name": "Python 3"
    },
    "language_info": {
      "name": "python"
    },
    "accelerator": "GPU",
    "widgets": {
      "application/vnd.jupyter.widget-state+json": {
        "0707a39ba678406fadeba13838142b95": {
          "model_module": "@jupyter-widgets/controls",
          "model_name": "HBoxModel",
          "model_module_version": "1.5.0",
          "state": {
            "_dom_classes": [],
            "_model_module": "@jupyter-widgets/controls",
            "_model_module_version": "1.5.0",
            "_model_name": "HBoxModel",
            "_view_count": null,
            "_view_module": "@jupyter-widgets/controls",
            "_view_module_version": "1.5.0",
            "_view_name": "HBoxView",
            "box_style": "",
            "children": [
              "IPY_MODEL_32ee23d75f54494fbbb7824102af0194",
              "IPY_MODEL_8489da25b87a474e934c09a5d4925d2b",
              "IPY_MODEL_4d4d5138d57941a5a08a6459629c849b"
            ],
            "layout": "IPY_MODEL_fc2b64b22a6f421e8ce886da5973c90e"
          }
        },
        "32ee23d75f54494fbbb7824102af0194": {
          "model_module": "@jupyter-widgets/controls",
          "model_name": "HTMLModel",
          "model_module_version": "1.5.0",
          "state": {
            "_dom_classes": [],
            "_model_module": "@jupyter-widgets/controls",
            "_model_module_version": "1.5.0",
            "_model_name": "HTMLModel",
            "_view_count": null,
            "_view_module": "@jupyter-widgets/controls",
            "_view_module_version": "1.5.0",
            "_view_name": "HTMLView",
            "description": "",
            "description_tooltip": null,
            "layout": "IPY_MODEL_970505aea6d84dbf93213dcdd669efbc",
            "placeholder": "​",
            "style": "IPY_MODEL_5584d81f734f4bab9a1a9fbbaec9c8a6",
            "value": "Epoch 4: 100%"
          }
        },
        "8489da25b87a474e934c09a5d4925d2b": {
          "model_module": "@jupyter-widgets/controls",
          "model_name": "FloatProgressModel",
          "model_module_version": "1.5.0",
          "state": {
            "_dom_classes": [],
            "_model_module": "@jupyter-widgets/controls",
            "_model_module_version": "1.5.0",
            "_model_name": "FloatProgressModel",
            "_view_count": null,
            "_view_module": "@jupyter-widgets/controls",
            "_view_module_version": "1.5.0",
            "_view_name": "ProgressView",
            "bar_style": "success",
            "description": "",
            "description_tooltip": null,
            "layout": "IPY_MODEL_ee604c799374423fa262c91cf82b3dac",
            "max": 1415,
            "min": 0,
            "orientation": "horizontal",
            "style": "IPY_MODEL_5cb1de07099d4b71ab891e32fc809676",
            "value": 1415
          }
        },
        "4d4d5138d57941a5a08a6459629c849b": {
          "model_module": "@jupyter-widgets/controls",
          "model_name": "HTMLModel",
          "model_module_version": "1.5.0",
          "state": {
            "_dom_classes": [],
            "_model_module": "@jupyter-widgets/controls",
            "_model_module_version": "1.5.0",
            "_model_name": "HTMLModel",
            "_view_count": null,
            "_view_module": "@jupyter-widgets/controls",
            "_view_module_version": "1.5.0",
            "_view_name": "HTMLView",
            "description": "",
            "description_tooltip": null,
            "layout": "IPY_MODEL_d971740f8d6541a592797c099bf203f4",
            "placeholder": "​",
            "style": "IPY_MODEL_0219064fb8604e8ca35954f89008aa15",
            "value": " 1415/1415 [00:44&lt;00:00, 31.70it/s, loss=0.005]"
          }
        },
        "fc2b64b22a6f421e8ce886da5973c90e": {
          "model_module": "@jupyter-widgets/base",
          "model_name": "LayoutModel",
          "model_module_version": "1.2.0",
          "state": {
            "_model_module": "@jupyter-widgets/base",
            "_model_module_version": "1.2.0",
            "_model_name": "LayoutModel",
            "_view_count": null,
            "_view_module": "@jupyter-widgets/base",
            "_view_module_version": "1.2.0",
            "_view_name": "LayoutView",
            "align_content": null,
            "align_items": null,
            "align_self": null,
            "border": null,
            "bottom": null,
            "display": "inline-flex",
            "flex": null,
            "flex_flow": "row wrap",
            "grid_area": null,
            "grid_auto_columns": null,
            "grid_auto_flow": null,
            "grid_auto_rows": null,
            "grid_column": null,
            "grid_gap": null,
            "grid_row": null,
            "grid_template_areas": null,
            "grid_template_columns": null,
            "grid_template_rows": null,
            "height": null,
            "justify_content": null,
            "justify_items": null,
            "left": null,
            "margin": null,
            "max_height": null,
            "max_width": null,
            "min_height": null,
            "min_width": null,
            "object_fit": null,
            "object_position": null,
            "order": null,
            "overflow": null,
            "overflow_x": null,
            "overflow_y": null,
            "padding": null,
            "right": null,
            "top": null,
            "visibility": null,
            "width": "100%"
          }
        },
        "970505aea6d84dbf93213dcdd669efbc": {
          "model_module": "@jupyter-widgets/base",
          "model_name": "LayoutModel",
          "model_module_version": "1.2.0",
          "state": {
            "_model_module": "@jupyter-widgets/base",
            "_model_module_version": "1.2.0",
            "_model_name": "LayoutModel",
            "_view_count": null,
            "_view_module": "@jupyter-widgets/base",
            "_view_module_version": "1.2.0",
            "_view_name": "LayoutView",
            "align_content": null,
            "align_items": null,
            "align_self": null,
            "border": null,
            "bottom": null,
            "display": null,
            "flex": null,
            "flex_flow": null,
            "grid_area": null,
            "grid_auto_columns": null,
            "grid_auto_flow": null,
            "grid_auto_rows": null,
            "grid_column": null,
            "grid_gap": null,
            "grid_row": null,
            "grid_template_areas": null,
            "grid_template_columns": null,
            "grid_template_rows": null,
            "height": null,
            "justify_content": null,
            "justify_items": null,
            "left": null,
            "margin": null,
            "max_height": null,
            "max_width": null,
            "min_height": null,
            "min_width": null,
            "object_fit": null,
            "object_position": null,
            "order": null,
            "overflow": null,
            "overflow_x": null,
            "overflow_y": null,
            "padding": null,
            "right": null,
            "top": null,
            "visibility": null,
            "width": null
          }
        },
        "5584d81f734f4bab9a1a9fbbaec9c8a6": {
          "model_module": "@jupyter-widgets/controls",
          "model_name": "DescriptionStyleModel",
          "model_module_version": "1.5.0",
          "state": {
            "_model_module": "@jupyter-widgets/controls",
            "_model_module_version": "1.5.0",
            "_model_name": "DescriptionStyleModel",
            "_view_count": null,
            "_view_module": "@jupyter-widgets/base",
            "_view_module_version": "1.2.0",
            "_view_name": "StyleView",
            "description_width": ""
          }
        },
        "ee604c799374423fa262c91cf82b3dac": {
          "model_module": "@jupyter-widgets/base",
          "model_name": "LayoutModel",
          "model_module_version": "1.2.0",
          "state": {
            "_model_module": "@jupyter-widgets/base",
            "_model_module_version": "1.2.0",
            "_model_name": "LayoutModel",
            "_view_count": null,
            "_view_module": "@jupyter-widgets/base",
            "_view_module_version": "1.2.0",
            "_view_name": "LayoutView",
            "align_content": null,
            "align_items": null,
            "align_self": null,
            "border": null,
            "bottom": null,
            "display": null,
            "flex": "2",
            "flex_flow": null,
            "grid_area": null,
            "grid_auto_columns": null,
            "grid_auto_flow": null,
            "grid_auto_rows": null,
            "grid_column": null,
            "grid_gap": null,
            "grid_row": null,
            "grid_template_areas": null,
            "grid_template_columns": null,
            "grid_template_rows": null,
            "height": null,
            "justify_content": null,
            "justify_items": null,
            "left": null,
            "margin": null,
            "max_height": null,
            "max_width": null,
            "min_height": null,
            "min_width": null,
            "object_fit": null,
            "object_position": null,
            "order": null,
            "overflow": null,
            "overflow_x": null,
            "overflow_y": null,
            "padding": null,
            "right": null,
            "top": null,
            "visibility": null,
            "width": null
          }
        },
        "5cb1de07099d4b71ab891e32fc809676": {
          "model_module": "@jupyter-widgets/controls",
          "model_name": "ProgressStyleModel",
          "model_module_version": "1.5.0",
          "state": {
            "_model_module": "@jupyter-widgets/controls",
            "_model_module_version": "1.5.0",
            "_model_name": "ProgressStyleModel",
            "_view_count": null,
            "_view_module": "@jupyter-widgets/base",
            "_view_module_version": "1.2.0",
            "_view_name": "StyleView",
            "bar_color": null,
            "description_width": ""
          }
        },
        "d971740f8d6541a592797c099bf203f4": {
          "model_module": "@jupyter-widgets/base",
          "model_name": "LayoutModel",
          "model_module_version": "1.2.0",
          "state": {
            "_model_module": "@jupyter-widgets/base",
            "_model_module_version": "1.2.0",
            "_model_name": "LayoutModel",
            "_view_count": null,
            "_view_module": "@jupyter-widgets/base",
            "_view_module_version": "1.2.0",
            "_view_name": "LayoutView",
            "align_content": null,
            "align_items": null,
            "align_self": null,
            "border": null,
            "bottom": null,
            "display": null,
            "flex": null,
            "flex_flow": null,
            "grid_area": null,
            "grid_auto_columns": null,
            "grid_auto_flow": null,
            "grid_auto_rows": null,
            "grid_column": null,
            "grid_gap": null,
            "grid_row": null,
            "grid_template_areas": null,
            "grid_template_columns": null,
            "grid_template_rows": null,
            "height": null,
            "justify_content": null,
            "justify_items": null,
            "left": null,
            "margin": null,
            "max_height": null,
            "max_width": null,
            "min_height": null,
            "min_width": null,
            "object_fit": null,
            "object_position": null,
            "order": null,
            "overflow": null,
            "overflow_x": null,
            "overflow_y": null,
            "padding": null,
            "right": null,
            "top": null,
            "visibility": null,
            "width": null
          }
        },
        "0219064fb8604e8ca35954f89008aa15": {
          "model_module": "@jupyter-widgets/controls",
          "model_name": "DescriptionStyleModel",
          "model_module_version": "1.5.0",
          "state": {
            "_model_module": "@jupyter-widgets/controls",
            "_model_module_version": "1.5.0",
            "_model_name": "DescriptionStyleModel",
            "_view_count": null,
            "_view_module": "@jupyter-widgets/base",
            "_view_module_version": "1.2.0",
            "_view_name": "StyleView",
            "description_width": ""
          }
        },
        "ff401d56560f41ed8567ed99e126f433": {
          "model_module": "@jupyter-widgets/controls",
          "model_name": "HBoxModel",
          "model_module_version": "1.5.0",
          "state": {
            "_dom_classes": [],
            "_model_module": "@jupyter-widgets/controls",
            "_model_module_version": "1.5.0",
            "_model_name": "HBoxModel",
            "_view_count": null,
            "_view_module": "@jupyter-widgets/controls",
            "_view_module_version": "1.5.0",
            "_view_name": "HBoxView",
            "box_style": "",
            "children": [
              "IPY_MODEL_3950058e03594363a72a65335c62dea6",
              "IPY_MODEL_ba179483f2d04d21bfaca8c8dfef7f37",
              "IPY_MODEL_078ee0e5913646db92776046ad839539"
            ],
            "layout": "IPY_MODEL_79e137a9f46747219c15f83500454016"
          }
        },
        "3950058e03594363a72a65335c62dea6": {
          "model_module": "@jupyter-widgets/controls",
          "model_name": "HTMLModel",
          "model_module_version": "1.5.0",
          "state": {
            "_dom_classes": [],
            "_model_module": "@jupyter-widgets/controls",
            "_model_module_version": "1.5.0",
            "_model_name": "HTMLModel",
            "_view_count": null,
            "_view_module": "@jupyter-widgets/controls",
            "_view_module_version": "1.5.0",
            "_view_name": "HTMLView",
            "description": "",
            "description_tooltip": null,
            "layout": "IPY_MODEL_7875fceb14174e4d84f5357f8fcdda36",
            "placeholder": "​",
            "style": "IPY_MODEL_a766761a57244a74ac03670dea05bcc2",
            "value": "Epoch 4: 100%"
          }
        },
        "ba179483f2d04d21bfaca8c8dfef7f37": {
          "model_module": "@jupyter-widgets/controls",
          "model_name": "FloatProgressModel",
          "model_module_version": "1.5.0",
          "state": {
            "_dom_classes": [],
            "_model_module": "@jupyter-widgets/controls",
            "_model_module_version": "1.5.0",
            "_model_name": "FloatProgressModel",
            "_view_count": null,
            "_view_module": "@jupyter-widgets/controls",
            "_view_module_version": "1.5.0",
            "_view_name": "ProgressView",
            "bar_style": "success",
            "description": "",
            "description_tooltip": null,
            "layout": "IPY_MODEL_89efe7dea7a048cc8c9518be624404ec",
            "max": 1415,
            "min": 0,
            "orientation": "horizontal",
            "style": "IPY_MODEL_454e67de89da4fc6a36b0feebae8afe8",
            "value": 1415
          }
        },
        "078ee0e5913646db92776046ad839539": {
          "model_module": "@jupyter-widgets/controls",
          "model_name": "HTMLModel",
          "model_module_version": "1.5.0",
          "state": {
            "_dom_classes": [],
            "_model_module": "@jupyter-widgets/controls",
            "_model_module_version": "1.5.0",
            "_model_name": "HTMLModel",
            "_view_count": null,
            "_view_module": "@jupyter-widgets/controls",
            "_view_module_version": "1.5.0",
            "_view_name": "HTMLView",
            "description": "",
            "description_tooltip": null,
            "layout": "IPY_MODEL_f3c432af8aa3421390a44df68daf5b94",
            "placeholder": "​",
            "style": "IPY_MODEL_120fde99dc8145be8b3464eb13baf60b",
            "value": " 1415/1415 [00:41&lt;00:00, 34.35it/s, loss=0.00562]"
          }
        },
        "79e137a9f46747219c15f83500454016": {
          "model_module": "@jupyter-widgets/base",
          "model_name": "LayoutModel",
          "model_module_version": "1.2.0",
          "state": {
            "_model_module": "@jupyter-widgets/base",
            "_model_module_version": "1.2.0",
            "_model_name": "LayoutModel",
            "_view_count": null,
            "_view_module": "@jupyter-widgets/base",
            "_view_module_version": "1.2.0",
            "_view_name": "LayoutView",
            "align_content": null,
            "align_items": null,
            "align_self": null,
            "border": null,
            "bottom": null,
            "display": "inline-flex",
            "flex": null,
            "flex_flow": "row wrap",
            "grid_area": null,
            "grid_auto_columns": null,
            "grid_auto_flow": null,
            "grid_auto_rows": null,
            "grid_column": null,
            "grid_gap": null,
            "grid_row": null,
            "grid_template_areas": null,
            "grid_template_columns": null,
            "grid_template_rows": null,
            "height": null,
            "justify_content": null,
            "justify_items": null,
            "left": null,
            "margin": null,
            "max_height": null,
            "max_width": null,
            "min_height": null,
            "min_width": null,
            "object_fit": null,
            "object_position": null,
            "order": null,
            "overflow": null,
            "overflow_x": null,
            "overflow_y": null,
            "padding": null,
            "right": null,
            "top": null,
            "visibility": null,
            "width": "100%"
          }
        },
        "7875fceb14174e4d84f5357f8fcdda36": {
          "model_module": "@jupyter-widgets/base",
          "model_name": "LayoutModel",
          "model_module_version": "1.2.0",
          "state": {
            "_model_module": "@jupyter-widgets/base",
            "_model_module_version": "1.2.0",
            "_model_name": "LayoutModel",
            "_view_count": null,
            "_view_module": "@jupyter-widgets/base",
            "_view_module_version": "1.2.0",
            "_view_name": "LayoutView",
            "align_content": null,
            "align_items": null,
            "align_self": null,
            "border": null,
            "bottom": null,
            "display": null,
            "flex": null,
            "flex_flow": null,
            "grid_area": null,
            "grid_auto_columns": null,
            "grid_auto_flow": null,
            "grid_auto_rows": null,
            "grid_column": null,
            "grid_gap": null,
            "grid_row": null,
            "grid_template_areas": null,
            "grid_template_columns": null,
            "grid_template_rows": null,
            "height": null,
            "justify_content": null,
            "justify_items": null,
            "left": null,
            "margin": null,
            "max_height": null,
            "max_width": null,
            "min_height": null,
            "min_width": null,
            "object_fit": null,
            "object_position": null,
            "order": null,
            "overflow": null,
            "overflow_x": null,
            "overflow_y": null,
            "padding": null,
            "right": null,
            "top": null,
            "visibility": null,
            "width": null
          }
        },
        "a766761a57244a74ac03670dea05bcc2": {
          "model_module": "@jupyter-widgets/controls",
          "model_name": "DescriptionStyleModel",
          "model_module_version": "1.5.0",
          "state": {
            "_model_module": "@jupyter-widgets/controls",
            "_model_module_version": "1.5.0",
            "_model_name": "DescriptionStyleModel",
            "_view_count": null,
            "_view_module": "@jupyter-widgets/base",
            "_view_module_version": "1.2.0",
            "_view_name": "StyleView",
            "description_width": ""
          }
        },
        "89efe7dea7a048cc8c9518be624404ec": {
          "model_module": "@jupyter-widgets/base",
          "model_name": "LayoutModel",
          "model_module_version": "1.2.0",
          "state": {
            "_model_module": "@jupyter-widgets/base",
            "_model_module_version": "1.2.0",
            "_model_name": "LayoutModel",
            "_view_count": null,
            "_view_module": "@jupyter-widgets/base",
            "_view_module_version": "1.2.0",
            "_view_name": "LayoutView",
            "align_content": null,
            "align_items": null,
            "align_self": null,
            "border": null,
            "bottom": null,
            "display": null,
            "flex": "2",
            "flex_flow": null,
            "grid_area": null,
            "grid_auto_columns": null,
            "grid_auto_flow": null,
            "grid_auto_rows": null,
            "grid_column": null,
            "grid_gap": null,
            "grid_row": null,
            "grid_template_areas": null,
            "grid_template_columns": null,
            "grid_template_rows": null,
            "height": null,
            "justify_content": null,
            "justify_items": null,
            "left": null,
            "margin": null,
            "max_height": null,
            "max_width": null,
            "min_height": null,
            "min_width": null,
            "object_fit": null,
            "object_position": null,
            "order": null,
            "overflow": null,
            "overflow_x": null,
            "overflow_y": null,
            "padding": null,
            "right": null,
            "top": null,
            "visibility": null,
            "width": null
          }
        },
        "454e67de89da4fc6a36b0feebae8afe8": {
          "model_module": "@jupyter-widgets/controls",
          "model_name": "ProgressStyleModel",
          "model_module_version": "1.5.0",
          "state": {
            "_model_module": "@jupyter-widgets/controls",
            "_model_module_version": "1.5.0",
            "_model_name": "ProgressStyleModel",
            "_view_count": null,
            "_view_module": "@jupyter-widgets/base",
            "_view_module_version": "1.2.0",
            "_view_name": "StyleView",
            "bar_color": null,
            "description_width": ""
          }
        },
        "f3c432af8aa3421390a44df68daf5b94": {
          "model_module": "@jupyter-widgets/base",
          "model_name": "LayoutModel",
          "model_module_version": "1.2.0",
          "state": {
            "_model_module": "@jupyter-widgets/base",
            "_model_module_version": "1.2.0",
            "_model_name": "LayoutModel",
            "_view_count": null,
            "_view_module": "@jupyter-widgets/base",
            "_view_module_version": "1.2.0",
            "_view_name": "LayoutView",
            "align_content": null,
            "align_items": null,
            "align_self": null,
            "border": null,
            "bottom": null,
            "display": null,
            "flex": null,
            "flex_flow": null,
            "grid_area": null,
            "grid_auto_columns": null,
            "grid_auto_flow": null,
            "grid_auto_rows": null,
            "grid_column": null,
            "grid_gap": null,
            "grid_row": null,
            "grid_template_areas": null,
            "grid_template_columns": null,
            "grid_template_rows": null,
            "height": null,
            "justify_content": null,
            "justify_items": null,
            "left": null,
            "margin": null,
            "max_height": null,
            "max_width": null,
            "min_height": null,
            "min_width": null,
            "object_fit": null,
            "object_position": null,
            "order": null,
            "overflow": null,
            "overflow_x": null,
            "overflow_y": null,
            "padding": null,
            "right": null,
            "top": null,
            "visibility": null,
            "width": null
          }
        },
        "120fde99dc8145be8b3464eb13baf60b": {
          "model_module": "@jupyter-widgets/controls",
          "model_name": "DescriptionStyleModel",
          "model_module_version": "1.5.0",
          "state": {
            "_model_module": "@jupyter-widgets/controls",
            "_model_module_version": "1.5.0",
            "_model_name": "DescriptionStyleModel",
            "_view_count": null,
            "_view_module": "@jupyter-widgets/base",
            "_view_module_version": "1.2.0",
            "_view_name": "StyleView",
            "description_width": ""
          }
        },
        "0ddac77974a4431d8b3516cde4aff770": {
          "model_module": "@jupyter-widgets/controls",
          "model_name": "HBoxModel",
          "model_module_version": "1.5.0",
          "state": {
            "_dom_classes": [],
            "_model_module": "@jupyter-widgets/controls",
            "_model_module_version": "1.5.0",
            "_model_name": "HBoxModel",
            "_view_count": null,
            "_view_module": "@jupyter-widgets/controls",
            "_view_module_version": "1.5.0",
            "_view_name": "HBoxView",
            "box_style": "",
            "children": [
              "IPY_MODEL_8c753e8dec574bf19fb6a3f139290d7d",
              "IPY_MODEL_b87df51ae7be48ba82272ff1563c753d",
              "IPY_MODEL_7d5a83b04ab44751a6265285851c4d5a"
            ],
            "layout": "IPY_MODEL_21ccf199b3664d30ac45975bdd8f6208"
          }
        },
        "8c753e8dec574bf19fb6a3f139290d7d": {
          "model_module": "@jupyter-widgets/controls",
          "model_name": "HTMLModel",
          "model_module_version": "1.5.0",
          "state": {
            "_dom_classes": [],
            "_model_module": "@jupyter-widgets/controls",
            "_model_module_version": "1.5.0",
            "_model_name": "HTMLModel",
            "_view_count": null,
            "_view_module": "@jupyter-widgets/controls",
            "_view_module_version": "1.5.0",
            "_view_name": "HTMLView",
            "description": "",
            "description_tooltip": null,
            "layout": "IPY_MODEL_59337c0b83214bde80f38a0ab272a17d",
            "placeholder": "​",
            "style": "IPY_MODEL_ef7a571938d04370bcfe5630970dd733",
            "value": "Epoch 4: 100%"
          }
        },
        "b87df51ae7be48ba82272ff1563c753d": {
          "model_module": "@jupyter-widgets/controls",
          "model_name": "FloatProgressModel",
          "model_module_version": "1.5.0",
          "state": {
            "_dom_classes": [],
            "_model_module": "@jupyter-widgets/controls",
            "_model_module_version": "1.5.0",
            "_model_name": "FloatProgressModel",
            "_view_count": null,
            "_view_module": "@jupyter-widgets/controls",
            "_view_module_version": "1.5.0",
            "_view_name": "ProgressView",
            "bar_style": "success",
            "description": "",
            "description_tooltip": null,
            "layout": "IPY_MODEL_af06c13a04a647fda6ad06b5ae036ce1",
            "max": 1415,
            "min": 0,
            "orientation": "horizontal",
            "style": "IPY_MODEL_44d8a6ac76de48c4818fc2ce466eaaad",
            "value": 1415
          }
        },
        "7d5a83b04ab44751a6265285851c4d5a": {
          "model_module": "@jupyter-widgets/controls",
          "model_name": "HTMLModel",
          "model_module_version": "1.5.0",
          "state": {
            "_dom_classes": [],
            "_model_module": "@jupyter-widgets/controls",
            "_model_module_version": "1.5.0",
            "_model_name": "HTMLModel",
            "_view_count": null,
            "_view_module": "@jupyter-widgets/controls",
            "_view_module_version": "1.5.0",
            "_view_name": "HTMLView",
            "description": "",
            "description_tooltip": null,
            "layout": "IPY_MODEL_bdb69a40e1e94b7390e3023388242811",
            "placeholder": "​",
            "style": "IPY_MODEL_b23287f6673f42dbaa8d8a81feb2e5bc",
            "value": " 1415/1415 [00:41&lt;00:00, 34.14it/s, loss=0.00468]"
          }
        },
        "21ccf199b3664d30ac45975bdd8f6208": {
          "model_module": "@jupyter-widgets/base",
          "model_name": "LayoutModel",
          "model_module_version": "1.2.0",
          "state": {
            "_model_module": "@jupyter-widgets/base",
            "_model_module_version": "1.2.0",
            "_model_name": "LayoutModel",
            "_view_count": null,
            "_view_module": "@jupyter-widgets/base",
            "_view_module_version": "1.2.0",
            "_view_name": "LayoutView",
            "align_content": null,
            "align_items": null,
            "align_self": null,
            "border": null,
            "bottom": null,
            "display": "inline-flex",
            "flex": null,
            "flex_flow": "row wrap",
            "grid_area": null,
            "grid_auto_columns": null,
            "grid_auto_flow": null,
            "grid_auto_rows": null,
            "grid_column": null,
            "grid_gap": null,
            "grid_row": null,
            "grid_template_areas": null,
            "grid_template_columns": null,
            "grid_template_rows": null,
            "height": null,
            "justify_content": null,
            "justify_items": null,
            "left": null,
            "margin": null,
            "max_height": null,
            "max_width": null,
            "min_height": null,
            "min_width": null,
            "object_fit": null,
            "object_position": null,
            "order": null,
            "overflow": null,
            "overflow_x": null,
            "overflow_y": null,
            "padding": null,
            "right": null,
            "top": null,
            "visibility": null,
            "width": "100%"
          }
        },
        "59337c0b83214bde80f38a0ab272a17d": {
          "model_module": "@jupyter-widgets/base",
          "model_name": "LayoutModel",
          "model_module_version": "1.2.0",
          "state": {
            "_model_module": "@jupyter-widgets/base",
            "_model_module_version": "1.2.0",
            "_model_name": "LayoutModel",
            "_view_count": null,
            "_view_module": "@jupyter-widgets/base",
            "_view_module_version": "1.2.0",
            "_view_name": "LayoutView",
            "align_content": null,
            "align_items": null,
            "align_self": null,
            "border": null,
            "bottom": null,
            "display": null,
            "flex": null,
            "flex_flow": null,
            "grid_area": null,
            "grid_auto_columns": null,
            "grid_auto_flow": null,
            "grid_auto_rows": null,
            "grid_column": null,
            "grid_gap": null,
            "grid_row": null,
            "grid_template_areas": null,
            "grid_template_columns": null,
            "grid_template_rows": null,
            "height": null,
            "justify_content": null,
            "justify_items": null,
            "left": null,
            "margin": null,
            "max_height": null,
            "max_width": null,
            "min_height": null,
            "min_width": null,
            "object_fit": null,
            "object_position": null,
            "order": null,
            "overflow": null,
            "overflow_x": null,
            "overflow_y": null,
            "padding": null,
            "right": null,
            "top": null,
            "visibility": null,
            "width": null
          }
        },
        "ef7a571938d04370bcfe5630970dd733": {
          "model_module": "@jupyter-widgets/controls",
          "model_name": "DescriptionStyleModel",
          "model_module_version": "1.5.0",
          "state": {
            "_model_module": "@jupyter-widgets/controls",
            "_model_module_version": "1.5.0",
            "_model_name": "DescriptionStyleModel",
            "_view_count": null,
            "_view_module": "@jupyter-widgets/base",
            "_view_module_version": "1.2.0",
            "_view_name": "StyleView",
            "description_width": ""
          }
        },
        "af06c13a04a647fda6ad06b5ae036ce1": {
          "model_module": "@jupyter-widgets/base",
          "model_name": "LayoutModel",
          "model_module_version": "1.2.0",
          "state": {
            "_model_module": "@jupyter-widgets/base",
            "_model_module_version": "1.2.0",
            "_model_name": "LayoutModel",
            "_view_count": null,
            "_view_module": "@jupyter-widgets/base",
            "_view_module_version": "1.2.0",
            "_view_name": "LayoutView",
            "align_content": null,
            "align_items": null,
            "align_self": null,
            "border": null,
            "bottom": null,
            "display": null,
            "flex": "2",
            "flex_flow": null,
            "grid_area": null,
            "grid_auto_columns": null,
            "grid_auto_flow": null,
            "grid_auto_rows": null,
            "grid_column": null,
            "grid_gap": null,
            "grid_row": null,
            "grid_template_areas": null,
            "grid_template_columns": null,
            "grid_template_rows": null,
            "height": null,
            "justify_content": null,
            "justify_items": null,
            "left": null,
            "margin": null,
            "max_height": null,
            "max_width": null,
            "min_height": null,
            "min_width": null,
            "object_fit": null,
            "object_position": null,
            "order": null,
            "overflow": null,
            "overflow_x": null,
            "overflow_y": null,
            "padding": null,
            "right": null,
            "top": null,
            "visibility": null,
            "width": null
          }
        },
        "44d8a6ac76de48c4818fc2ce466eaaad": {
          "model_module": "@jupyter-widgets/controls",
          "model_name": "ProgressStyleModel",
          "model_module_version": "1.5.0",
          "state": {
            "_model_module": "@jupyter-widgets/controls",
            "_model_module_version": "1.5.0",
            "_model_name": "ProgressStyleModel",
            "_view_count": null,
            "_view_module": "@jupyter-widgets/base",
            "_view_module_version": "1.2.0",
            "_view_name": "StyleView",
            "bar_color": null,
            "description_width": ""
          }
        },
        "bdb69a40e1e94b7390e3023388242811": {
          "model_module": "@jupyter-widgets/base",
          "model_name": "LayoutModel",
          "model_module_version": "1.2.0",
          "state": {
            "_model_module": "@jupyter-widgets/base",
            "_model_module_version": "1.2.0",
            "_model_name": "LayoutModel",
            "_view_count": null,
            "_view_module": "@jupyter-widgets/base",
            "_view_module_version": "1.2.0",
            "_view_name": "LayoutView",
            "align_content": null,
            "align_items": null,
            "align_self": null,
            "border": null,
            "bottom": null,
            "display": null,
            "flex": null,
            "flex_flow": null,
            "grid_area": null,
            "grid_auto_columns": null,
            "grid_auto_flow": null,
            "grid_auto_rows": null,
            "grid_column": null,
            "grid_gap": null,
            "grid_row": null,
            "grid_template_areas": null,
            "grid_template_columns": null,
            "grid_template_rows": null,
            "height": null,
            "justify_content": null,
            "justify_items": null,
            "left": null,
            "margin": null,
            "max_height": null,
            "max_width": null,
            "min_height": null,
            "min_width": null,
            "object_fit": null,
            "object_position": null,
            "order": null,
            "overflow": null,
            "overflow_x": null,
            "overflow_y": null,
            "padding": null,
            "right": null,
            "top": null,
            "visibility": null,
            "width": null
          }
        },
        "b23287f6673f42dbaa8d8a81feb2e5bc": {
          "model_module": "@jupyter-widgets/controls",
          "model_name": "DescriptionStyleModel",
          "model_module_version": "1.5.0",
          "state": {
            "_model_module": "@jupyter-widgets/controls",
            "_model_module_version": "1.5.0",
            "_model_name": "DescriptionStyleModel",
            "_view_count": null,
            "_view_module": "@jupyter-widgets/base",
            "_view_module_version": "1.2.0",
            "_view_name": "StyleView",
            "description_width": ""
          }
        },
        "66acd81406654e74aa880b8435c8cdd0": {
          "model_module": "@jupyter-widgets/controls",
          "model_name": "HBoxModel",
          "model_module_version": "1.5.0",
          "state": {
            "_dom_classes": [],
            "_model_module": "@jupyter-widgets/controls",
            "_model_module_version": "1.5.0",
            "_model_name": "HBoxModel",
            "_view_count": null,
            "_view_module": "@jupyter-widgets/controls",
            "_view_module_version": "1.5.0",
            "_view_name": "HBoxView",
            "box_style": "",
            "children": [
              "IPY_MODEL_24f9be85c24c4733865fe8add729235d",
              "IPY_MODEL_b2b5544172cb40ccac8cdd3041c59d10",
              "IPY_MODEL_54fe5b2bc4e348f3a2595bd528b80af9"
            ],
            "layout": "IPY_MODEL_28d793257de24cd598348b738e2b9788"
          }
        },
        "24f9be85c24c4733865fe8add729235d": {
          "model_module": "@jupyter-widgets/controls",
          "model_name": "HTMLModel",
          "model_module_version": "1.5.0",
          "state": {
            "_dom_classes": [],
            "_model_module": "@jupyter-widgets/controls",
            "_model_module_version": "1.5.0",
            "_model_name": "HTMLModel",
            "_view_count": null,
            "_view_module": "@jupyter-widgets/controls",
            "_view_module_version": "1.5.0",
            "_view_name": "HTMLView",
            "description": "",
            "description_tooltip": null,
            "layout": "IPY_MODEL_7c66e00298954a0f871de1388862ac39",
            "placeholder": "​",
            "style": "IPY_MODEL_336da4f70f834acbb64da5b1dafbd278",
            "value": "Epoch 4: 100%"
          }
        },
        "b2b5544172cb40ccac8cdd3041c59d10": {
          "model_module": "@jupyter-widgets/controls",
          "model_name": "FloatProgressModel",
          "model_module_version": "1.5.0",
          "state": {
            "_dom_classes": [],
            "_model_module": "@jupyter-widgets/controls",
            "_model_module_version": "1.5.0",
            "_model_name": "FloatProgressModel",
            "_view_count": null,
            "_view_module": "@jupyter-widgets/controls",
            "_view_module_version": "1.5.0",
            "_view_name": "ProgressView",
            "bar_style": "success",
            "description": "",
            "description_tooltip": null,
            "layout": "IPY_MODEL_860dad63261342719383a6e77c7f2107",
            "max": 353,
            "min": 0,
            "orientation": "horizontal",
            "style": "IPY_MODEL_86136977016d465d9d71dfc887377e6d",
            "value": 353
          }
        },
        "54fe5b2bc4e348f3a2595bd528b80af9": {
          "model_module": "@jupyter-widgets/controls",
          "model_name": "HTMLModel",
          "model_module_version": "1.5.0",
          "state": {
            "_dom_classes": [],
            "_model_module": "@jupyter-widgets/controls",
            "_model_module_version": "1.5.0",
            "_model_name": "HTMLModel",
            "_view_count": null,
            "_view_module": "@jupyter-widgets/controls",
            "_view_module_version": "1.5.0",
            "_view_name": "HTMLView",
            "description": "",
            "description_tooltip": null,
            "layout": "IPY_MODEL_b2c46b4c482749688523d3e5acd8c8ee",
            "placeholder": "​",
            "style": "IPY_MODEL_32b73b10bb77441abb1730b3abdc9380",
            "value": " 353/353 [00:31&lt;00:00, 11.04it/s, loss=1.57, train_loss_step=1.540, train_loss_epoch=1.550]"
          }
        },
        "28d793257de24cd598348b738e2b9788": {
          "model_module": "@jupyter-widgets/base",
          "model_name": "LayoutModel",
          "model_module_version": "1.2.0",
          "state": {
            "_model_module": "@jupyter-widgets/base",
            "_model_module_version": "1.2.0",
            "_model_name": "LayoutModel",
            "_view_count": null,
            "_view_module": "@jupyter-widgets/base",
            "_view_module_version": "1.2.0",
            "_view_name": "LayoutView",
            "align_content": null,
            "align_items": null,
            "align_self": null,
            "border": null,
            "bottom": null,
            "display": "inline-flex",
            "flex": null,
            "flex_flow": "row wrap",
            "grid_area": null,
            "grid_auto_columns": null,
            "grid_auto_flow": null,
            "grid_auto_rows": null,
            "grid_column": null,
            "grid_gap": null,
            "grid_row": null,
            "grid_template_areas": null,
            "grid_template_columns": null,
            "grid_template_rows": null,
            "height": null,
            "justify_content": null,
            "justify_items": null,
            "left": null,
            "margin": null,
            "max_height": null,
            "max_width": null,
            "min_height": null,
            "min_width": null,
            "object_fit": null,
            "object_position": null,
            "order": null,
            "overflow": null,
            "overflow_x": null,
            "overflow_y": null,
            "padding": null,
            "right": null,
            "top": null,
            "visibility": null,
            "width": "100%"
          }
        },
        "7c66e00298954a0f871de1388862ac39": {
          "model_module": "@jupyter-widgets/base",
          "model_name": "LayoutModel",
          "model_module_version": "1.2.0",
          "state": {
            "_model_module": "@jupyter-widgets/base",
            "_model_module_version": "1.2.0",
            "_model_name": "LayoutModel",
            "_view_count": null,
            "_view_module": "@jupyter-widgets/base",
            "_view_module_version": "1.2.0",
            "_view_name": "LayoutView",
            "align_content": null,
            "align_items": null,
            "align_self": null,
            "border": null,
            "bottom": null,
            "display": null,
            "flex": null,
            "flex_flow": null,
            "grid_area": null,
            "grid_auto_columns": null,
            "grid_auto_flow": null,
            "grid_auto_rows": null,
            "grid_column": null,
            "grid_gap": null,
            "grid_row": null,
            "grid_template_areas": null,
            "grid_template_columns": null,
            "grid_template_rows": null,
            "height": null,
            "justify_content": null,
            "justify_items": null,
            "left": null,
            "margin": null,
            "max_height": null,
            "max_width": null,
            "min_height": null,
            "min_width": null,
            "object_fit": null,
            "object_position": null,
            "order": null,
            "overflow": null,
            "overflow_x": null,
            "overflow_y": null,
            "padding": null,
            "right": null,
            "top": null,
            "visibility": null,
            "width": null
          }
        },
        "336da4f70f834acbb64da5b1dafbd278": {
          "model_module": "@jupyter-widgets/controls",
          "model_name": "DescriptionStyleModel",
          "model_module_version": "1.5.0",
          "state": {
            "_model_module": "@jupyter-widgets/controls",
            "_model_module_version": "1.5.0",
            "_model_name": "DescriptionStyleModel",
            "_view_count": null,
            "_view_module": "@jupyter-widgets/base",
            "_view_module_version": "1.2.0",
            "_view_name": "StyleView",
            "description_width": ""
          }
        },
        "860dad63261342719383a6e77c7f2107": {
          "model_module": "@jupyter-widgets/base",
          "model_name": "LayoutModel",
          "model_module_version": "1.2.0",
          "state": {
            "_model_module": "@jupyter-widgets/base",
            "_model_module_version": "1.2.0",
            "_model_name": "LayoutModel",
            "_view_count": null,
            "_view_module": "@jupyter-widgets/base",
            "_view_module_version": "1.2.0",
            "_view_name": "LayoutView",
            "align_content": null,
            "align_items": null,
            "align_self": null,
            "border": null,
            "bottom": null,
            "display": null,
            "flex": "2",
            "flex_flow": null,
            "grid_area": null,
            "grid_auto_columns": null,
            "grid_auto_flow": null,
            "grid_auto_rows": null,
            "grid_column": null,
            "grid_gap": null,
            "grid_row": null,
            "grid_template_areas": null,
            "grid_template_columns": null,
            "grid_template_rows": null,
            "height": null,
            "justify_content": null,
            "justify_items": null,
            "left": null,
            "margin": null,
            "max_height": null,
            "max_width": null,
            "min_height": null,
            "min_width": null,
            "object_fit": null,
            "object_position": null,
            "order": null,
            "overflow": null,
            "overflow_x": null,
            "overflow_y": null,
            "padding": null,
            "right": null,
            "top": null,
            "visibility": null,
            "width": null
          }
        },
        "86136977016d465d9d71dfc887377e6d": {
          "model_module": "@jupyter-widgets/controls",
          "model_name": "ProgressStyleModel",
          "model_module_version": "1.5.0",
          "state": {
            "_model_module": "@jupyter-widgets/controls",
            "_model_module_version": "1.5.0",
            "_model_name": "ProgressStyleModel",
            "_view_count": null,
            "_view_module": "@jupyter-widgets/base",
            "_view_module_version": "1.2.0",
            "_view_name": "StyleView",
            "bar_color": null,
            "description_width": ""
          }
        },
        "b2c46b4c482749688523d3e5acd8c8ee": {
          "model_module": "@jupyter-widgets/base",
          "model_name": "LayoutModel",
          "model_module_version": "1.2.0",
          "state": {
            "_model_module": "@jupyter-widgets/base",
            "_model_module_version": "1.2.0",
            "_model_name": "LayoutModel",
            "_view_count": null,
            "_view_module": "@jupyter-widgets/base",
            "_view_module_version": "1.2.0",
            "_view_name": "LayoutView",
            "align_content": null,
            "align_items": null,
            "align_self": null,
            "border": null,
            "bottom": null,
            "display": null,
            "flex": null,
            "flex_flow": null,
            "grid_area": null,
            "grid_auto_columns": null,
            "grid_auto_flow": null,
            "grid_auto_rows": null,
            "grid_column": null,
            "grid_gap": null,
            "grid_row": null,
            "grid_template_areas": null,
            "grid_template_columns": null,
            "grid_template_rows": null,
            "height": null,
            "justify_content": null,
            "justify_items": null,
            "left": null,
            "margin": null,
            "max_height": null,
            "max_width": null,
            "min_height": null,
            "min_width": null,
            "object_fit": null,
            "object_position": null,
            "order": null,
            "overflow": null,
            "overflow_x": null,
            "overflow_y": null,
            "padding": null,
            "right": null,
            "top": null,
            "visibility": null,
            "width": null
          }
        },
        "32b73b10bb77441abb1730b3abdc9380": {
          "model_module": "@jupyter-widgets/controls",
          "model_name": "DescriptionStyleModel",
          "model_module_version": "1.5.0",
          "state": {
            "_model_module": "@jupyter-widgets/controls",
            "_model_module_version": "1.5.0",
            "_model_name": "DescriptionStyleModel",
            "_view_count": null,
            "_view_module": "@jupyter-widgets/base",
            "_view_module_version": "1.2.0",
            "_view_name": "StyleView",
            "description_width": ""
          }
        },
        "7ff37debed804a04810dcee7891a70b1": {
          "model_module": "@jupyter-widgets/controls",
          "model_name": "HBoxModel",
          "model_module_version": "1.5.0",
          "state": {
            "_dom_classes": [],
            "_model_module": "@jupyter-widgets/controls",
            "_model_module_version": "1.5.0",
            "_model_name": "HBoxModel",
            "_view_count": null,
            "_view_module": "@jupyter-widgets/controls",
            "_view_module_version": "1.5.0",
            "_view_name": "HBoxView",
            "box_style": "",
            "children": [
              "IPY_MODEL_89ebcf8aab1a4350aa911ac6bbfab0e1",
              "IPY_MODEL_fa2b26541a974544aff2aad9bf4efd4c",
              "IPY_MODEL_c48cba5f58f8408c97869d7b452a45ef"
            ],
            "layout": "IPY_MODEL_c97bc221475c4b01bfbf4a72782794f1"
          }
        },
        "89ebcf8aab1a4350aa911ac6bbfab0e1": {
          "model_module": "@jupyter-widgets/controls",
          "model_name": "HTMLModel",
          "model_module_version": "1.5.0",
          "state": {
            "_dom_classes": [],
            "_model_module": "@jupyter-widgets/controls",
            "_model_module_version": "1.5.0",
            "_model_name": "HTMLModel",
            "_view_count": null,
            "_view_module": "@jupyter-widgets/controls",
            "_view_module_version": "1.5.0",
            "_view_name": "HTMLView",
            "description": "",
            "description_tooltip": null,
            "layout": "IPY_MODEL_4cc1a33cb387427da6336206aa71275b",
            "placeholder": "​",
            "style": "IPY_MODEL_56a84cbb3b0245b5bb329e0886d37aab",
            "value": "Epoch 4: 100%"
          }
        },
        "fa2b26541a974544aff2aad9bf4efd4c": {
          "model_module": "@jupyter-widgets/controls",
          "model_name": "FloatProgressModel",
          "model_module_version": "1.5.0",
          "state": {
            "_dom_classes": [],
            "_model_module": "@jupyter-widgets/controls",
            "_model_module_version": "1.5.0",
            "_model_name": "FloatProgressModel",
            "_view_count": null,
            "_view_module": "@jupyter-widgets/controls",
            "_view_module_version": "1.5.0",
            "_view_name": "ProgressView",
            "bar_style": "success",
            "description": "",
            "description_tooltip": null,
            "layout": "IPY_MODEL_fbb944fa5c8c47a7b376bcdb04a515e4",
            "max": 353,
            "min": 0,
            "orientation": "horizontal",
            "style": "IPY_MODEL_5b08fbbfa96548699ea91728033849ea",
            "value": 353
          }
        },
        "c48cba5f58f8408c97869d7b452a45ef": {
          "model_module": "@jupyter-widgets/controls",
          "model_name": "HTMLModel",
          "model_module_version": "1.5.0",
          "state": {
            "_dom_classes": [],
            "_model_module": "@jupyter-widgets/controls",
            "_model_module_version": "1.5.0",
            "_model_name": "HTMLModel",
            "_view_count": null,
            "_view_module": "@jupyter-widgets/controls",
            "_view_module_version": "1.5.0",
            "_view_name": "HTMLView",
            "description": "",
            "description_tooltip": null,
            "layout": "IPY_MODEL_fa308f66c6fb41a3bbf6a1086ff4955c",
            "placeholder": "​",
            "style": "IPY_MODEL_0133263d6c144e0b8e2a6d1fc6b76d1f",
            "value": " 353/353 [00:31&lt;00:00, 11.10it/s, loss=1.54, train_loss_step=1.520, train_loss_epoch=1.550]"
          }
        },
        "c97bc221475c4b01bfbf4a72782794f1": {
          "model_module": "@jupyter-widgets/base",
          "model_name": "LayoutModel",
          "model_module_version": "1.2.0",
          "state": {
            "_model_module": "@jupyter-widgets/base",
            "_model_module_version": "1.2.0",
            "_model_name": "LayoutModel",
            "_view_count": null,
            "_view_module": "@jupyter-widgets/base",
            "_view_module_version": "1.2.0",
            "_view_name": "LayoutView",
            "align_content": null,
            "align_items": null,
            "align_self": null,
            "border": null,
            "bottom": null,
            "display": "inline-flex",
            "flex": null,
            "flex_flow": "row wrap",
            "grid_area": null,
            "grid_auto_columns": null,
            "grid_auto_flow": null,
            "grid_auto_rows": null,
            "grid_column": null,
            "grid_gap": null,
            "grid_row": null,
            "grid_template_areas": null,
            "grid_template_columns": null,
            "grid_template_rows": null,
            "height": null,
            "justify_content": null,
            "justify_items": null,
            "left": null,
            "margin": null,
            "max_height": null,
            "max_width": null,
            "min_height": null,
            "min_width": null,
            "object_fit": null,
            "object_position": null,
            "order": null,
            "overflow": null,
            "overflow_x": null,
            "overflow_y": null,
            "padding": null,
            "right": null,
            "top": null,
            "visibility": null,
            "width": "100%"
          }
        },
        "4cc1a33cb387427da6336206aa71275b": {
          "model_module": "@jupyter-widgets/base",
          "model_name": "LayoutModel",
          "model_module_version": "1.2.0",
          "state": {
            "_model_module": "@jupyter-widgets/base",
            "_model_module_version": "1.2.0",
            "_model_name": "LayoutModel",
            "_view_count": null,
            "_view_module": "@jupyter-widgets/base",
            "_view_module_version": "1.2.0",
            "_view_name": "LayoutView",
            "align_content": null,
            "align_items": null,
            "align_self": null,
            "border": null,
            "bottom": null,
            "display": null,
            "flex": null,
            "flex_flow": null,
            "grid_area": null,
            "grid_auto_columns": null,
            "grid_auto_flow": null,
            "grid_auto_rows": null,
            "grid_column": null,
            "grid_gap": null,
            "grid_row": null,
            "grid_template_areas": null,
            "grid_template_columns": null,
            "grid_template_rows": null,
            "height": null,
            "justify_content": null,
            "justify_items": null,
            "left": null,
            "margin": null,
            "max_height": null,
            "max_width": null,
            "min_height": null,
            "min_width": null,
            "object_fit": null,
            "object_position": null,
            "order": null,
            "overflow": null,
            "overflow_x": null,
            "overflow_y": null,
            "padding": null,
            "right": null,
            "top": null,
            "visibility": null,
            "width": null
          }
        },
        "56a84cbb3b0245b5bb329e0886d37aab": {
          "model_module": "@jupyter-widgets/controls",
          "model_name": "DescriptionStyleModel",
          "model_module_version": "1.5.0",
          "state": {
            "_model_module": "@jupyter-widgets/controls",
            "_model_module_version": "1.5.0",
            "_model_name": "DescriptionStyleModel",
            "_view_count": null,
            "_view_module": "@jupyter-widgets/base",
            "_view_module_version": "1.2.0",
            "_view_name": "StyleView",
            "description_width": ""
          }
        },
        "fbb944fa5c8c47a7b376bcdb04a515e4": {
          "model_module": "@jupyter-widgets/base",
          "model_name": "LayoutModel",
          "model_module_version": "1.2.0",
          "state": {
            "_model_module": "@jupyter-widgets/base",
            "_model_module_version": "1.2.0",
            "_model_name": "LayoutModel",
            "_view_count": null,
            "_view_module": "@jupyter-widgets/base",
            "_view_module_version": "1.2.0",
            "_view_name": "LayoutView",
            "align_content": null,
            "align_items": null,
            "align_self": null,
            "border": null,
            "bottom": null,
            "display": null,
            "flex": "2",
            "flex_flow": null,
            "grid_area": null,
            "grid_auto_columns": null,
            "grid_auto_flow": null,
            "grid_auto_rows": null,
            "grid_column": null,
            "grid_gap": null,
            "grid_row": null,
            "grid_template_areas": null,
            "grid_template_columns": null,
            "grid_template_rows": null,
            "height": null,
            "justify_content": null,
            "justify_items": null,
            "left": null,
            "margin": null,
            "max_height": null,
            "max_width": null,
            "min_height": null,
            "min_width": null,
            "object_fit": null,
            "object_position": null,
            "order": null,
            "overflow": null,
            "overflow_x": null,
            "overflow_y": null,
            "padding": null,
            "right": null,
            "top": null,
            "visibility": null,
            "width": null
          }
        },
        "5b08fbbfa96548699ea91728033849ea": {
          "model_module": "@jupyter-widgets/controls",
          "model_name": "ProgressStyleModel",
          "model_module_version": "1.5.0",
          "state": {
            "_model_module": "@jupyter-widgets/controls",
            "_model_module_version": "1.5.0",
            "_model_name": "ProgressStyleModel",
            "_view_count": null,
            "_view_module": "@jupyter-widgets/base",
            "_view_module_version": "1.2.0",
            "_view_name": "StyleView",
            "bar_color": null,
            "description_width": ""
          }
        },
        "fa308f66c6fb41a3bbf6a1086ff4955c": {
          "model_module": "@jupyter-widgets/base",
          "model_name": "LayoutModel",
          "model_module_version": "1.2.0",
          "state": {
            "_model_module": "@jupyter-widgets/base",
            "_model_module_version": "1.2.0",
            "_model_name": "LayoutModel",
            "_view_count": null,
            "_view_module": "@jupyter-widgets/base",
            "_view_module_version": "1.2.0",
            "_view_name": "LayoutView",
            "align_content": null,
            "align_items": null,
            "align_self": null,
            "border": null,
            "bottom": null,
            "display": null,
            "flex": null,
            "flex_flow": null,
            "grid_area": null,
            "grid_auto_columns": null,
            "grid_auto_flow": null,
            "grid_auto_rows": null,
            "grid_column": null,
            "grid_gap": null,
            "grid_row": null,
            "grid_template_areas": null,
            "grid_template_columns": null,
            "grid_template_rows": null,
            "height": null,
            "justify_content": null,
            "justify_items": null,
            "left": null,
            "margin": null,
            "max_height": null,
            "max_width": null,
            "min_height": null,
            "min_width": null,
            "object_fit": null,
            "object_position": null,
            "order": null,
            "overflow": null,
            "overflow_x": null,
            "overflow_y": null,
            "padding": null,
            "right": null,
            "top": null,
            "visibility": null,
            "width": null
          }
        },
        "0133263d6c144e0b8e2a6d1fc6b76d1f": {
          "model_module": "@jupyter-widgets/controls",
          "model_name": "DescriptionStyleModel",
          "model_module_version": "1.5.0",
          "state": {
            "_model_module": "@jupyter-widgets/controls",
            "_model_module_version": "1.5.0",
            "_model_name": "DescriptionStyleModel",
            "_view_count": null,
            "_view_module": "@jupyter-widgets/base",
            "_view_module_version": "1.2.0",
            "_view_name": "StyleView",
            "description_width": ""
          }
        },
        "d0a845c9daaf4a0b992d2b2d34d4e720": {
          "model_module": "@jupyter-widgets/controls",
          "model_name": "HBoxModel",
          "model_module_version": "1.5.0",
          "state": {
            "_dom_classes": [],
            "_model_module": "@jupyter-widgets/controls",
            "_model_module_version": "1.5.0",
            "_model_name": "HBoxModel",
            "_view_count": null,
            "_view_module": "@jupyter-widgets/controls",
            "_view_module_version": "1.5.0",
            "_view_name": "HBoxView",
            "box_style": "",
            "children": [
              "IPY_MODEL_de9743bd328042fa81de574a2c34bff2",
              "IPY_MODEL_64cadb45fbc449d7b47872e424380ff7",
              "IPY_MODEL_7cd0004395774e798ab4342d0cd66f99"
            ],
            "layout": "IPY_MODEL_856ebcc037584e88b7b6581100391245"
          }
        },
        "de9743bd328042fa81de574a2c34bff2": {
          "model_module": "@jupyter-widgets/controls",
          "model_name": "HTMLModel",
          "model_module_version": "1.5.0",
          "state": {
            "_dom_classes": [],
            "_model_module": "@jupyter-widgets/controls",
            "_model_module_version": "1.5.0",
            "_model_name": "HTMLModel",
            "_view_count": null,
            "_view_module": "@jupyter-widgets/controls",
            "_view_module_version": "1.5.0",
            "_view_name": "HTMLView",
            "description": "",
            "description_tooltip": null,
            "layout": "IPY_MODEL_da26f07c37c046a09870aabbfe0c9365",
            "placeholder": "​",
            "style": "IPY_MODEL_48ae18a3fcb14cc29ee2eeac16bee1e2",
            "value": "Epoch 4: 100%"
          }
        },
        "64cadb45fbc449d7b47872e424380ff7": {
          "model_module": "@jupyter-widgets/controls",
          "model_name": "FloatProgressModel",
          "model_module_version": "1.5.0",
          "state": {
            "_dom_classes": [],
            "_model_module": "@jupyter-widgets/controls",
            "_model_module_version": "1.5.0",
            "_model_name": "FloatProgressModel",
            "_view_count": null,
            "_view_module": "@jupyter-widgets/controls",
            "_view_module_version": "1.5.0",
            "_view_name": "ProgressView",
            "bar_style": "success",
            "description": "",
            "description_tooltip": null,
            "layout": "IPY_MODEL_3687d06448304dcb9c0dd7535b9a99bb",
            "max": 353,
            "min": 0,
            "orientation": "horizontal",
            "style": "IPY_MODEL_706d73edc6c34370a4618ab97cb15836",
            "value": 353
          }
        },
        "7cd0004395774e798ab4342d0cd66f99": {
          "model_module": "@jupyter-widgets/controls",
          "model_name": "HTMLModel",
          "model_module_version": "1.5.0",
          "state": {
            "_dom_classes": [],
            "_model_module": "@jupyter-widgets/controls",
            "_model_module_version": "1.5.0",
            "_model_name": "HTMLModel",
            "_view_count": null,
            "_view_module": "@jupyter-widgets/controls",
            "_view_module_version": "1.5.0",
            "_view_name": "HTMLView",
            "description": "",
            "description_tooltip": null,
            "layout": "IPY_MODEL_a4e3127a9c874e3285705179004749c1",
            "placeholder": "​",
            "style": "IPY_MODEL_daa9989acd054660a307bfb0608bd0a9",
            "value": " 353/353 [00:31&lt;00:00, 11.04it/s, loss=1.54, train_loss_step=1.740, train_loss_epoch=1.560]"
          }
        },
        "856ebcc037584e88b7b6581100391245": {
          "model_module": "@jupyter-widgets/base",
          "model_name": "LayoutModel",
          "model_module_version": "1.2.0",
          "state": {
            "_model_module": "@jupyter-widgets/base",
            "_model_module_version": "1.2.0",
            "_model_name": "LayoutModel",
            "_view_count": null,
            "_view_module": "@jupyter-widgets/base",
            "_view_module_version": "1.2.0",
            "_view_name": "LayoutView",
            "align_content": null,
            "align_items": null,
            "align_self": null,
            "border": null,
            "bottom": null,
            "display": "inline-flex",
            "flex": null,
            "flex_flow": "row wrap",
            "grid_area": null,
            "grid_auto_columns": null,
            "grid_auto_flow": null,
            "grid_auto_rows": null,
            "grid_column": null,
            "grid_gap": null,
            "grid_row": null,
            "grid_template_areas": null,
            "grid_template_columns": null,
            "grid_template_rows": null,
            "height": null,
            "justify_content": null,
            "justify_items": null,
            "left": null,
            "margin": null,
            "max_height": null,
            "max_width": null,
            "min_height": null,
            "min_width": null,
            "object_fit": null,
            "object_position": null,
            "order": null,
            "overflow": null,
            "overflow_x": null,
            "overflow_y": null,
            "padding": null,
            "right": null,
            "top": null,
            "visibility": null,
            "width": "100%"
          }
        },
        "da26f07c37c046a09870aabbfe0c9365": {
          "model_module": "@jupyter-widgets/base",
          "model_name": "LayoutModel",
          "model_module_version": "1.2.0",
          "state": {
            "_model_module": "@jupyter-widgets/base",
            "_model_module_version": "1.2.0",
            "_model_name": "LayoutModel",
            "_view_count": null,
            "_view_module": "@jupyter-widgets/base",
            "_view_module_version": "1.2.0",
            "_view_name": "LayoutView",
            "align_content": null,
            "align_items": null,
            "align_self": null,
            "border": null,
            "bottom": null,
            "display": null,
            "flex": null,
            "flex_flow": null,
            "grid_area": null,
            "grid_auto_columns": null,
            "grid_auto_flow": null,
            "grid_auto_rows": null,
            "grid_column": null,
            "grid_gap": null,
            "grid_row": null,
            "grid_template_areas": null,
            "grid_template_columns": null,
            "grid_template_rows": null,
            "height": null,
            "justify_content": null,
            "justify_items": null,
            "left": null,
            "margin": null,
            "max_height": null,
            "max_width": null,
            "min_height": null,
            "min_width": null,
            "object_fit": null,
            "object_position": null,
            "order": null,
            "overflow": null,
            "overflow_x": null,
            "overflow_y": null,
            "padding": null,
            "right": null,
            "top": null,
            "visibility": null,
            "width": null
          }
        },
        "48ae18a3fcb14cc29ee2eeac16bee1e2": {
          "model_module": "@jupyter-widgets/controls",
          "model_name": "DescriptionStyleModel",
          "model_module_version": "1.5.0",
          "state": {
            "_model_module": "@jupyter-widgets/controls",
            "_model_module_version": "1.5.0",
            "_model_name": "DescriptionStyleModel",
            "_view_count": null,
            "_view_module": "@jupyter-widgets/base",
            "_view_module_version": "1.2.0",
            "_view_name": "StyleView",
            "description_width": ""
          }
        },
        "3687d06448304dcb9c0dd7535b9a99bb": {
          "model_module": "@jupyter-widgets/base",
          "model_name": "LayoutModel",
          "model_module_version": "1.2.0",
          "state": {
            "_model_module": "@jupyter-widgets/base",
            "_model_module_version": "1.2.0",
            "_model_name": "LayoutModel",
            "_view_count": null,
            "_view_module": "@jupyter-widgets/base",
            "_view_module_version": "1.2.0",
            "_view_name": "LayoutView",
            "align_content": null,
            "align_items": null,
            "align_self": null,
            "border": null,
            "bottom": null,
            "display": null,
            "flex": "2",
            "flex_flow": null,
            "grid_area": null,
            "grid_auto_columns": null,
            "grid_auto_flow": null,
            "grid_auto_rows": null,
            "grid_column": null,
            "grid_gap": null,
            "grid_row": null,
            "grid_template_areas": null,
            "grid_template_columns": null,
            "grid_template_rows": null,
            "height": null,
            "justify_content": null,
            "justify_items": null,
            "left": null,
            "margin": null,
            "max_height": null,
            "max_width": null,
            "min_height": null,
            "min_width": null,
            "object_fit": null,
            "object_position": null,
            "order": null,
            "overflow": null,
            "overflow_x": null,
            "overflow_y": null,
            "padding": null,
            "right": null,
            "top": null,
            "visibility": null,
            "width": null
          }
        },
        "706d73edc6c34370a4618ab97cb15836": {
          "model_module": "@jupyter-widgets/controls",
          "model_name": "ProgressStyleModel",
          "model_module_version": "1.5.0",
          "state": {
            "_model_module": "@jupyter-widgets/controls",
            "_model_module_version": "1.5.0",
            "_model_name": "ProgressStyleModel",
            "_view_count": null,
            "_view_module": "@jupyter-widgets/base",
            "_view_module_version": "1.2.0",
            "_view_name": "StyleView",
            "bar_color": null,
            "description_width": ""
          }
        },
        "a4e3127a9c874e3285705179004749c1": {
          "model_module": "@jupyter-widgets/base",
          "model_name": "LayoutModel",
          "model_module_version": "1.2.0",
          "state": {
            "_model_module": "@jupyter-widgets/base",
            "_model_module_version": "1.2.0",
            "_model_name": "LayoutModel",
            "_view_count": null,
            "_view_module": "@jupyter-widgets/base",
            "_view_module_version": "1.2.0",
            "_view_name": "LayoutView",
            "align_content": null,
            "align_items": null,
            "align_self": null,
            "border": null,
            "bottom": null,
            "display": null,
            "flex": null,
            "flex_flow": null,
            "grid_area": null,
            "grid_auto_columns": null,
            "grid_auto_flow": null,
            "grid_auto_rows": null,
            "grid_column": null,
            "grid_gap": null,
            "grid_row": null,
            "grid_template_areas": null,
            "grid_template_columns": null,
            "grid_template_rows": null,
            "height": null,
            "justify_content": null,
            "justify_items": null,
            "left": null,
            "margin": null,
            "max_height": null,
            "max_width": null,
            "min_height": null,
            "min_width": null,
            "object_fit": null,
            "object_position": null,
            "order": null,
            "overflow": null,
            "overflow_x": null,
            "overflow_y": null,
            "padding": null,
            "right": null,
            "top": null,
            "visibility": null,
            "width": null
          }
        },
        "daa9989acd054660a307bfb0608bd0a9": {
          "model_module": "@jupyter-widgets/controls",
          "model_name": "DescriptionStyleModel",
          "model_module_version": "1.5.0",
          "state": {
            "_model_module": "@jupyter-widgets/controls",
            "_model_module_version": "1.5.0",
            "_model_name": "DescriptionStyleModel",
            "_view_count": null,
            "_view_module": "@jupyter-widgets/base",
            "_view_module_version": "1.2.0",
            "_view_name": "StyleView",
            "description_width": ""
          }
        }
      }
    }
  },
  "cells": [
    {
      "cell_type": "markdown",
      "source": [
        "Собянин Максим Андреевич, РИ-411003"
      ],
      "metadata": {
        "id": "_GlGXwwmnjAp"
      }
    },
    {
      "cell_type": "code",
      "source": [
        "ls"
      ],
      "metadata": {
        "colab": {
          "base_uri": "https://localhost:8080/"
        },
        "id": "SxOi19bhoCg_",
        "outputId": "a402e649-e92d-48e1-d76a-f7234f68d107"
      },
      "execution_count": 1,
      "outputs": [
        {
          "output_type": "stream",
          "name": "stdout",
          "text": [
            "machine_temperature_system_failure.csv  \u001b[0m\u001b[01;34msample_data\u001b[0m/\n"
          ]
        }
      ]
    },
    {
      "cell_type": "markdown",
      "source": [
        "##**Данные**"
      ],
      "metadata": {
        "id": "Y5292AwmquQ7"
      }
    },
    {
      "cell_type": "markdown",
      "source": [
        "Выберите для анализа один из двух временных рядов.\n",
        "Выберем второй временной ряд."
      ],
      "metadata": {
        "id": "atoD-MfXq4Ug"
      }
    },
    {
      "cell_type": "code",
      "source": [
        "%%capture\n",
        "!pip install etna[all] -U"
      ],
      "metadata": {
        "id": "DvG2FtYsScPX"
      },
      "execution_count": 2,
      "outputs": []
    },
    {
      "cell_type": "markdown",
      "source": [
        "Подключение библиотек."
      ],
      "metadata": {
        "id": "dWRESUhLxAGD"
      }
    },
    {
      "cell_type": "code",
      "execution_count": 3,
      "metadata": {
        "id": "Rd0ZPbAlnBpG"
      },
      "outputs": [],
      "source": [
        "import torch\n",
        "import random\n",
        "\n",
        "import pandas as pd\n",
        "import numpy as np\n",
        "\n",
        "from etna.datasets.tsdataset import TSDataset\n",
        "from etna.pipeline import Pipeline\n",
        "from etna.transforms import DateFlagsTransform, LagTransform, LinearTrendTransform, StandardScalerTransform\n",
        "from etna.metrics import SMAPE, MAPE, MAE\n",
        "from etna.analysis import plot_backtest\n",
        "from etna.models import SeasonalMovingAverageModel\n",
        "from etna.models.nn import DeepARModel, RNNModel\n",
        "from etna.models.nn.utils import PytorchForecastingDatasetBuilder\n",
        "\n",
        "from pytorch_forecasting.data import GroupNormalizer\n",
        "import matplotlib.pyplot as plt\n",
        "\n",
        "from sklearn.metrics import mean_absolute_error\n",
        "from statsmodels.tsa.stattools import adfuller\n",
        "from statsmodels.graphics.tsaplots import plot_acf, plot_pacf\n",
        "from statsmodels.tsa.arima.model import ARIMA\n",
        "\n"
      ]
    },
    {
      "cell_type": "code",
      "source": [
        "data = pd.read_csv('machine_temperature_system_failure.csv')\n",
        "data['timestamp'] = pd.to_datetime(data['timestamp'])\n",
        "data.set_index('timestamp', inplace=True)"
      ],
      "metadata": {
        "id": "pslmqbw8oLjK"
      },
      "execution_count": 4,
      "outputs": []
    },
    {
      "cell_type": "markdown",
      "source": [
        "###Визуализируйте ряд и на основе его внешнего вида сделайте предположения о его компонентах (тренд, сезонность) и стационарности"
      ],
      "metadata": {
        "id": "QfkH_w2trKaS"
      }
    },
    {
      "cell_type": "code",
      "source": [
        "plt.figure(figsize=(12, 6))\n",
        "plt.plot(data['value'])\n",
        "plt.title('Временной ряд температуры')\n",
        "plt.xlabel('Время')\n",
        "plt.ylabel('Температура')\n",
        "plt.grid()\n",
        "plt.show()"
      ],
      "metadata": {
        "colab": {
          "base_uri": "https://localhost:8080/",
          "height": 564
        },
        "id": "jQ-H3vEso71l",
        "outputId": "8c7bc8e1-419d-45a9-fd08-a7ca8e171e10"
      },
      "execution_count": 5,
      "outputs": [
        {
          "output_type": "display_data",
          "data": {
            "text/plain": [
              "<Figure size 1200x600 with 1 Axes>"
            ],
            "image/png": "[encoded data removed]"
          },
          "metadata": {}
        }
      ]
    },
    {
      "cell_type": "markdown",
      "source": [
        "По полученной визуализации не получится сделать выводы о трендах, сезонности и стационарности."
      ],
      "metadata": {
        "id": "Wg0ClORkqA9v"
      }
    },
    {
      "cell_type": "markdown",
      "source": [
        "###Сделайте train/test split"
      ],
      "metadata": {
        "id": "5ts9i0ZhrUbq"
      }
    },
    {
      "cell_type": "code",
      "source": [
        "train_size = int(len(data) * 0.8)\n",
        "train, test = data[:train_size], data[train_size:]\n",
        "\n",
        "print(f'Train size: {len(train)}, Test size: {len(test)}')"
      ],
      "metadata": {
        "colab": {
          "base_uri": "https://localhost:8080/"
        },
        "id": "sDOV0q1OrW3Z",
        "outputId": "565ee551-1d29-40b2-f081-fa5b87c22721"
      },
      "execution_count": 6,
      "outputs": [
        {
          "output_type": "stream",
          "name": "stdout",
          "text": [
            "Train size: 18156, Test size: 4539\n"
          ]
        }
      ]
    },
    {
      "cell_type": "markdown",
      "source": [
        "###Выберите релевантную, на ваш взгляд, метрику для последующих замеров качества"
      ],
      "metadata": {
        "id": "VxsZBmvVrkFj"
      }
    },
    {
      "cell_type": "markdown",
      "source": [
        "Выберем метрику для последующих замеров: MAE (Mean Absolute Error). Она показывает среднее отклонение прогноза от фактических значений."
      ],
      "metadata": {
        "id": "TGTmisg9sRxo"
      }
    },
    {
      "cell_type": "markdown",
      "source": [
        "##**Прогнозирование**"
      ],
      "metadata": {
        "id": "wgPfBGl9zHsC"
      }
    },
    {
      "cell_type": "markdown",
      "source": [
        "###Постройте бейзлайн в виде наивного прогноза или скользящего среднего"
      ],
      "metadata": {
        "id": "R8lm-jHhzJi7"
      }
    },
    {
      "cell_type": "markdown",
      "source": [
        "Наивный прогноз выполним следующим образом: для каждого временного шага используем значение предыдущего временного шага. Модель простая, однако может выступать в качестве хорошего бейзлайна."
      ],
      "metadata": {
        "id": "bIwMttgz2tAi"
      }
    },
    {
      "cell_type": "code",
      "source": [
        "# Наивный прогноз\n",
        "train['naive_forecast'] = train['value'].shift(1)\n",
        "\n",
        "# Удаление NaN значений\n",
        "train = train.dropna()"
      ],
      "metadata": {
        "id": "RdMaqJWhzMkV"
      },
      "execution_count": 8,
      "outputs": []
    },
    {
      "cell_type": "markdown",
      "source": [
        "###Визуализируйте результаты работы модели, произведите замеры качества с выбранной метрикой"
      ],
      "metadata": {
        "id": "a24KJ1zo1F4z"
      }
    },
    {
      "cell_type": "markdown",
      "source": [
        "Визуализируем результаты наивного прогноза и произведем замеры качества."
      ],
      "metadata": {
        "id": "SeShE5Jd2vaJ"
      }
    },
    {
      "cell_type": "code",
      "source": [
        "# Прогноз на тестовой\n",
        "test['naive_forecast'] = train['value'].iloc[-1]\n",
        "test['naive_forecast'] = test['naive_forecast'].shift(1)\n",
        "test = test.dropna()\n",
        "\n",
        "# MAE\n",
        "baseline_mae = mean_absolute_error(test['value'], test['naive_forecast'])\n",
        "print(f'Mean Absolute Error (MAE): {baseline_mae}')\n",
        "\n",
        "# Визуализация\n",
        "plt.figure(figsize=(12, 6))\n",
        "plt.plot(train.index, train['value'], label='Train', color='blue')\n",
        "plt.plot(test.index, test['value'], label='Test', color='green')\n",
        "plt.plot(test.index, test['naive_forecast'], label='Naive Forecast', color='red')\n",
        "plt.title('Naive Forecast vs Actual Values')"
      ],
      "metadata": {
        "colab": {
          "base_uri": "https://localhost:8080/",
          "height": 580
        },
        "id": "082nIh0U1GQv",
        "outputId": "364ce86e-4115-40d0-ec55-9e2413168403"
      },
      "execution_count": 10,
      "outputs": [
        {
          "output_type": "stream",
          "name": "stdout",
          "text": [
            "Mean Absolute Error (MAE): 12.00617108008155\n"
          ]
        },
        {
          "output_type": "execute_result",
          "data": {
            "text/plain": [
              "Text(0.5, 1.0, 'Naive Forecast vs Actual Values')"
            ]
          },
          "metadata": {},
          "execution_count": 10
        },
        {
          "output_type": "display_data",
          "data": {
            "text/plain": [
              "<Figure size 1200x600 with 1 Axes>"
            ],
            "image/png": "[encoded data removed]"
          },
          "metadata": {}
        }
      ]
    },
    {
      "cell_type": "markdown",
      "source": [
        "##Статистическая модель"
      ],
      "metadata": {
        "id": "_ZQ_LF1r2yj-"
      }
    },
    {
      "cell_type": "markdown",
      "source": [
        "###Проведите тест Дики-Фуллера и интерпретируйте результаты"
      ],
      "metadata": {
        "id": "9DSrE46T21Bj"
      }
    },
    {
      "cell_type": "markdown",
      "source": [
        "Тест Дики-Фуллера (ADF) позволяет проверить стационарность временного ряда. Если p-значение меньше 0.05, мы отвергаем гипотезу о наличии единичного корня, что указывает на стационарность ряда."
      ],
      "metadata": {
        "id": "JZhxcOZE2480"
      }
    },
    {
      "cell_type": "code",
      "source": [
        "result = adfuller(data['value'].dropna())\n",
        "print('ADF Statistic:', result[0])\n",
        "print('p-value:', result[1])\n",
        "print('Critical Values:')\n",
        "for key, value in result[4].items():\n",
        "    print(f'{key}: {value}')"
      ],
      "metadata": {
        "colab": {
          "base_uri": "https://localhost:8080/"
        },
        "id": "VRTvlFTV2yHL",
        "outputId": "c28932f4-b24a-4119-e736-0d0262be7dd2"
      },
      "execution_count": 11,
      "outputs": [
        {
          "output_type": "stream",
          "name": "stdout",
          "text": [
            "ADF Statistic: -7.3690895644913414\n",
            "p-value: 9.071345315518266e-11\n",
            "Critical Values:\n",
            "1%: -3.4306384378792365\n",
            "5%: -2.861667480233377\n",
            "10%: -2.566837854101014\n"
          ]
        }
      ]
    },
    {
      "cell_type": "markdown",
      "source": [
        "###Постройте графики ACF/PACF и проанализируйте их, сделайте предположения о наличии/отсутствии сезонности"
      ],
      "metadata": {
        "id": "KgeF1G146E9P"
      }
    },
    {
      "cell_type": "markdown",
      "source": [
        "Графики автокорреляции (ACF) и частичной автокорреляции (PACF) помогут нам проанализировать наличие сезонности и определить порядок авторегрессионной модели."
      ],
      "metadata": {
        "id": "uTbf7MB36Jf-"
      }
    },
    {
      "cell_type": "code",
      "source": [
        "plt.figure(figsize=(12, 6))\n",
        "\n",
        "plt.subplot(211)\n",
        "plot_acf(data['value'].dropna(), lags=40, ax=plt.gca())\n",
        "plt.title('ACF')\n",
        "\n",
        "plt.subplot(212)\n",
        "plot_pacf(data['value'].dropna(), lags=40, ax=plt.gca())\n",
        "plt.title('PACF')\n",
        "\n",
        "plt.tight_layout()\n",
        "plt.show()"
      ],
      "metadata": {
        "colab": {
          "base_uri": "https://localhost:8080/",
          "height": 662
        },
        "id": "LPNUTj1s6Ptd",
        "outputId": "21633a1a-0618-4918-de9f-e04877f27ea7"
      },
      "execution_count": 12,
      "outputs": [
        {
          "output_type": "stream",
          "name": "stderr",
          "text": [
            "/usr/local/lib/python3.10/dist-packages/statsmodels/graphics/tsaplots.py:348: FutureWarning: The default method 'yw' can produce PACF values outside of the [-1,1] interval. After 0.13, the default will change tounadjusted Yule-Walker ('ywm'). You can use this method now by setting method='ywm'.\n",
            "  warnings.warn(\n"
          ]
        },
        {
          "output_type": "display_data",
          "data": {
            "text/plain": [
              "<Figure size 1200x600 with 2 Axes>"
            ],
            "image/png": "[encoded data removed]"
          },
          "metadata": {}
        }
      ]
    },
    {
      "cell_type": "markdown",
      "source": [
        "###Проведите необходимые на ваш взгляд преобразования для придания ряду стационарности (дифференцирование / сезонное дифференцирование)"
      ],
      "metadata": {
        "id": "PEp22Hc868o0"
      }
    },
    {
      "cell_type": "markdown",
      "source": [
        "Для не стацианарного ряда можно использовать дифференцирование. Для сезонного можно использовать сезонное дифференцирование."
      ],
      "metadata": {
        "id": "2ovRPZU66-MW"
      }
    },
    {
      "cell_type": "code",
      "source": [
        "# Удаление дубликатов\n",
        "data = data[~data.index.duplicated(keep='first')]\n",
        "print(data.index.duplicated().sum())\n",
        "\n",
        "# Дифференцирование\n",
        "data['value_diff'] = data['value'].diff().dropna()\n",
        "\n",
        "# Сезонное дифференцирование\n",
        "data['value_seasonal_diff'] = data['value'].diff(12).dropna()"
      ],
      "metadata": {
        "colab": {
          "base_uri": "https://localhost:8080/"
        },
        "id": "LJBRsIlu6-0I",
        "outputId": "6f43acbf-b89b-481d-ab81-8627a4d22267"
      },
      "execution_count": 14,
      "outputs": [
        {
          "output_type": "stream",
          "name": "stdout",
          "text": [
            "0\n"
          ]
        }
      ]
    },
    {
      "cell_type": "markdown",
      "source": [
        "###Проверьте стационарность полученного ряда с тестом Дики-Фуллера и визуализацией ACF/PACF"
      ],
      "metadata": {
        "id": "loSDZX4b8l68"
      }
    },
    {
      "cell_type": "markdown",
      "source": [
        "После преобразования проверим стационарность и построим ACF/PACF для дифференцированного ряда."
      ],
      "metadata": {
        "id": "UvtRx5jp8n3w"
      }
    },
    {
      "cell_type": "code",
      "source": [
        "result_diff = adfuller(data['value_diff'].dropna())\n",
        "print('ADF Statistic (Differenced):', result_diff[0])\n",
        "print('p-value (Differenced):', result_diff[1])\n",
        "\n",
        "plt.figure(figsize=(12, 6))\n",
        "\n",
        "plt.subplot(211)\n",
        "plot_acf(data['value_diff'].dropna(), lags=40, ax=plt.gca())\n",
        "plt.title('ACF (Differenced)')\n",
        "\n",
        "plt.subplot(212)\n",
        "plot_pacf(data['value_diff'].dropna(), lags=40, ax=plt.gca())\n",
        "plt.title('PACF (Differenced)')\n",
        "\n",
        "plt.tight_layout()\n",
        "plt.show()"
      ],
      "metadata": {
        "colab": {
          "base_uri": "https://localhost:8080/",
          "height": 696
        },
        "id": "DkxkEl-W8F87",
        "outputId": "0d2b6718-484a-4d43-ee4b-f516c09bb719"
      },
      "execution_count": 15,
      "outputs": [
        {
          "output_type": "stream",
          "name": "stdout",
          "text": [
            "ADF Statistic (Differenced): -30.307886110051996\n",
            "p-value (Differenced): 0.0\n"
          ]
        },
        {
          "output_type": "stream",
          "name": "stderr",
          "text": [
            "/usr/local/lib/python3.10/dist-packages/statsmodels/graphics/tsaplots.py:348: FutureWarning: The default method 'yw' can produce PACF values outside of the [-1,1] interval. After 0.13, the default will change tounadjusted Yule-Walker ('ywm'). You can use this method now by setting method='ywm'.\n",
            "  warnings.warn(\n"
          ]
        },
        {
          "output_type": "display_data",
          "data": {
            "text/plain": [
              "<Figure size 1200x600 with 2 Axes>"
            ],
            "image/png": "[encoded data removed]"
          },
          "metadata": {}
        }
      ]
    },
    {
      "cell_type": "markdown",
      "source": [
        "###Обучите модель ARIMA или SARIMA для прогнозирования значений ряда, подобрав оптимальные параметры"
      ],
      "metadata": {
        "id": "OEy4Yv9Z9V_O"
      }
    },
    {
      "cell_type": "markdown",
      "source": [
        "Теперь мы можем обучить модель ARIMA или SARIMA, используя параметры, полученные из графиков ACF и PACF."
      ],
      "metadata": {
        "id": "ZleF7C7C9XDG"
      }
    },
    {
      "cell_type": "markdown",
      "source": [
        "Установим и используем auto_arima для автоматического определения параметров p,d и q"
      ],
      "metadata": {
        "id": "4tA1DgllDnoM"
      }
    },
    {
      "cell_type": "code",
      "source": [
        "   !pip install pmdarima\n",
        "   from pmdarima import auto_arima\n",
        "   train_size = int(len(data) * 0.8)\n",
        "   train, test = data[:train_size], data[train_size:]\n",
        "   model = auto_arima(train['value'], seasonal=False, stepwise=True)\n",
        "   print(model.summary())\n"
      ],
      "metadata": {
        "colab": {
          "base_uri": "https://localhost:8080/"
        },
        "id": "RoUEt_y6-G1z",
        "outputId": "9c1daa94-1ba4-4f90-fd15-7bc4d3a18afb"
      },
      "execution_count": 16,
      "outputs": [
        {
          "output_type": "stream",
          "name": "stdout",
          "text": [
            "Requirement already satisfied: pmdarima in /usr/local/lib/python3.10/dist-packages (2.0.4)\n",
            "Requirement already satisfied: joblib>=0.11 in /usr/local/lib/python3.10/dist-packages (from pmdarima) (1.4.2)\n",
            "Requirement already satisfied: Cython!=0.29.18,!=0.29.31,>=0.29 in /usr/local/lib/python3.10/dist-packages (from pmdarima) (3.0.11)\n",
            "Requirement already satisfied: numpy>=1.21.2 in /usr/local/lib/python3.10/dist-packages (from pmdarima) (1.26.4)\n",
            "Requirement already satisfied: pandas>=0.19 in /usr/local/lib/python3.10/dist-packages (from pmdarima) (1.5.3)\n",
            "Requirement already satisfied: scikit-learn>=0.22 in /usr/local/lib/python3.10/dist-packages (from pmdarima) (1.0.2)\n",
            "Requirement already satisfied: scipy>=1.3.2 in /usr/local/lib/python3.10/dist-packages (from pmdarima) (1.14.1)\n",
            "Requirement already satisfied: statsmodels>=0.13.2 in /usr/local/lib/python3.10/dist-packages (from pmdarima) (0.13.5)\n",
            "Requirement already satisfied: urllib3 in /usr/local/lib/python3.10/dist-packages (from pmdarima) (2.2.3)\n",
            "Requirement already satisfied: setuptools!=50.0.0,>=38.6.0 in /usr/local/lib/python3.10/dist-packages (from pmdarima) (75.1.0)\n",
            "Requirement already satisfied: packaging>=17.1 in /usr/local/lib/python3.10/dist-packages (from pmdarima) (24.2)\n",
            "Requirement already satisfied: python-dateutil>=2.8.1 in /usr/local/lib/python3.10/dist-packages (from pandas>=0.19->pmdarima) (2.8.2)\n",
            "Requirement already satisfied: pytz>=2020.1 in /usr/local/lib/python3.10/dist-packages (from pandas>=0.19->pmdarima) (2024.2)\n",
            "Requirement already satisfied: threadpoolctl>=2.0.0 in /usr/local/lib/python3.10/dist-packages (from scikit-learn>=0.22->pmdarima) (3.5.0)\n",
            "Requirement already satisfied: patsy>=0.5.2 in /usr/local/lib/python3.10/dist-packages (from statsmodels>=0.13.2->pmdarima) (1.0.1)\n",
            "Requirement already satisfied: six>=1.5 in /usr/local/lib/python3.10/dist-packages (from python-dateutil>=2.8.1->pandas>=0.19->pmdarima) (1.17.0)\n",
            "                               SARIMAX Results                                \n",
            "==============================================================================\n",
            "Dep. Variable:                      y   No. Observations:                18146\n",
            "Model:               SARIMAX(1, 1, 2)   Log Likelihood              -26277.841\n",
            "Date:                Mon, 23 Dec 2024   AIC                          52563.683\n",
            "Time:                        11:01:27   BIC                          52594.907\n",
            "Sample:                    12-02-2013   HQIC                         52573.947\n",
            "                         - 02-03-2014                                         \n",
            "Covariance Type:                  opg                                         \n",
            "==============================================================================\n",
            "                 coef    std err          z      P>|z|      [0.025      0.975]\n",
            "------------------------------------------------------------------------------\n",
            "ar.L1          0.7758      0.012     64.588      0.000       0.752       0.799\n",
            "ma.L1         -1.0380      0.011    -95.429      0.000      -1.059      -1.017\n",
            "ma.L2          0.3292      0.004     86.055      0.000       0.322       0.337\n",
            "sigma2         1.0603      0.005    201.041      0.000       1.050       1.071\n",
            "===================================================================================\n",
            "Ljung-Box (L1) (Q):                   0.00   Jarque-Bera (JB):            424855.93\n",
            "Prob(Q):                              0.95   Prob(JB):                         0.00\n",
            "Heteroskedasticity (H):               0.94   Skew:                             1.59\n",
            "Prob(H) (two-sided):                  0.02   Kurtosis:                        26.49\n",
            "===================================================================================\n",
            "\n",
            "Warnings:\n",
            "[1] Covariance matrix calculated using the outer product of gradients (complex-step).\n"
          ]
        }
      ]
    },
    {
      "cell_type": "markdown",
      "source": [
        "На основе результатов, полученных с помощью auto_arima, мы можем заменить параметры p, d и q коде следующим образом:\n",
        "\n",
        "•  p = 1 (ar.L1) - порядок авторегрессии\n",
        "\n",
        "•  d = 1 (SARIMAX(1, 1, 2)) - порядок интегрирования\n",
        "\n",
        "•  q = 2 (ma.L1 и ma.L2.) - порядок скользящего среднего"
      ],
      "metadata": {
        "id": "LgsQnfYkDveo"
      }
    },
    {
      "cell_type": "code",
      "source": [
        "model = ARIMA(train['value'], order=(1, 1, 2))\n",
        "model_fit = model.fit()\n",
        "\n",
        "print(model_fit.summary())"
      ],
      "metadata": {
        "colab": {
          "base_uri": "https://localhost:8080/"
        },
        "id": "VIuTlamW9Ylx",
        "outputId": "1d18b5b6-001b-438a-e905-ca19a66629f0"
      },
      "execution_count": 18,
      "outputs": [
        {
          "output_type": "stream",
          "name": "stdout",
          "text": [
            "                               SARIMAX Results                                \n",
            "==============================================================================\n",
            "Dep. Variable:                  value   No. Observations:                18146\n",
            "Model:                 ARIMA(1, 1, 2)   Log Likelihood              -26277.841\n",
            "Date:                Mon, 23 Dec 2024   AIC                          52563.683\n",
            "Time:                        11:04:14   BIC                          52594.907\n",
            "Sample:                    12-02-2013   HQIC                         52573.947\n",
            "                         - 02-03-2014                                         \n",
            "Covariance Type:                  opg                                         \n",
            "==============================================================================\n",
            "                 coef    std err          z      P>|z|      [0.025      0.975]\n",
            "------------------------------------------------------------------------------\n",
            "ar.L1          0.7758      0.012     64.588      0.000       0.752       0.799\n",
            "ma.L1         -1.0380      0.011    -95.429      0.000      -1.059      -1.017\n",
            "ma.L2          0.3292      0.004     86.055      0.000       0.322       0.337\n",
            "sigma2         1.0603      0.005    201.041      0.000       1.050       1.071\n",
            "===================================================================================\n",
            "Ljung-Box (L1) (Q):                   0.00   Jarque-Bera (JB):            424855.93\n",
            "Prob(Q):                              0.95   Prob(JB):                         0.00\n",
            "Heteroskedasticity (H):               0.94   Skew:                             1.59\n",
            "Prob(H) (two-sided):                  0.02   Kurtosis:                        26.49\n",
            "===================================================================================\n",
            "\n",
            "Warnings:\n",
            "[1] Covariance matrix calculated using the outer product of gradients (complex-step).\n"
          ]
        }
      ]
    },
    {
      "cell_type": "markdown",
      "source": [
        "###Визуализируйте результаты работы модели, произведите замеры качества модели ARIMA (или SARIMA)"
      ],
      "metadata": {
        "id": "Wl5nOf67ElZW"
      }
    },
    {
      "cell_type": "markdown",
      "source": [
        "Наконец, визуализируем результаты прогноза и произведем замеры качества модели."
      ],
      "metadata": {
        "id": "_2JM-fXPEpD1"
      }
    },
    {
      "cell_type": "code",
      "source": [
        "forecast = model_fit.forecast(steps=len(test))\n",
        "test['forecast'] = forecast\n",
        "\n",
        "plt.figure(figsize=(12, 6))\n",
        "plt.plot(train.index, train['value'], label='Train', color='blue')\n",
        "plt.plot(test.index, test['value'], label='Test', color='green')\n",
        "plt.plot(test.index, test['forecast'], label='Forecast', color='red')\n",
        "plt.title('ARIMA Forecast vs Actual Values')\n",
        "plt.xlabel('Timestamp')\n",
        "plt.ylabel('Temperature')\n",
        "plt.legend()\n",
        "plt.show()\n",
        "\n",
        "test = test.dropna(subset=['value', 'forecast'])\n",
        "arima_mae = mean_absolute_error(test['value'], test['forecast'])\n",
        "print(f'Mean Absolute Error (MAE): {arima_mae}')"
      ],
      "metadata": {
        "colab": {
          "base_uri": "https://localhost:8080/",
          "height": 686
        },
        "id": "QUj9Bvv7ErQv",
        "outputId": "da1da6aa-0bba-4f51-a286-132c849e56a6"
      },
      "execution_count": 19,
      "outputs": [
        {
          "output_type": "stream",
          "name": "stderr",
          "text": [
            "<ipython-input-19-3687f2de2f02>:2: SettingWithCopyWarning: \n",
            "A value is trying to be set on a copy of a slice from a DataFrame.\n",
            "Try using .loc[row_indexer,col_indexer] = value instead\n",
            "\n",
            "See the caveats in the documentation: https://pandas.pydata.org/pandas-docs/stable/user_guide/indexing.html#returning-a-view-versus-a-copy\n",
            "  test['forecast'] = forecast\n"
          ]
        },
        {
          "output_type": "display_data",
          "data": {
            "text/plain": [
              "<Figure size 1200x600 with 1 Axes>"
            ],
            "image/png": "[encoded data removed]"
          },
          "metadata": {}
        },
        {
          "output_type": "stream",
          "name": "stdout",
          "text": [
            "Mean Absolute Error (MAE): 11.366920512054124\n"
          ]
        }
      ]
    },
    {
      "cell_type": "markdown",
      "source": [
        "##Классическая модель"
      ],
      "metadata": {
        "id": "DEmjo-toIogN"
      }
    },
    {
      "cell_type": "markdown",
      "source": [
        "###Используйте Feature-Engineering для создания признаков (лаги, скользящие статистики, признаки даты/времени, etc)"
      ],
      "metadata": {
        "id": "88UdojtAIqhu"
      }
    },
    {
      "cell_type": "markdown",
      "source": [
        "Создадим новые признаки на основе временных меток и скользящих статистик, затем можем извлечь признаки:\n",
        "\n",
        "*   Час, день, месяц, год\n",
        "*   День недели\n",
        "*   Скользящие средние и стандартные отклонения\n",
        "*   Лаги (предыдущие значения)"
      ],
      "metadata": {
        "id": "_08sMiCbIv4f"
      }
    },
    {
      "cell_type": "code",
      "source": [
        "# Новые признаки\n",
        "data['year'] = data.index.year\n",
        "data['month'] = data.index.month\n",
        "data['day'] = data.index.day\n",
        "data['hour'] = data.index.hour\n",
        "data['day_of_week'] = data.index.dayofweek\n",
        "\n",
        "# Скользящие средние\n",
        "data['rolling_mean_3'] = data['value'].rolling(window=3).mean()\n",
        "data['rolling_std_3'] = data['value'].rolling(window=3).std()\n",
        "\n",
        "# Лаги\n",
        "data['lag_1'] = data['value'].shift(1)\n",
        "data['lag_2'] = data['value'].shift(2)\n",
        "\n",
        "# Отбросим NaN значения\n",
        "data.dropna(inplace=True)\n",
        "\n",
        "# Разделение на обучающую и тестовую выборки\n",
        "train_size = int(len(data) * 0.8)\n",
        "train, test = data[:train_size], data[train_size:]"
      ],
      "metadata": {
        "id": "3Q6lJO4BJk3l"
      },
      "execution_count": 20,
      "outputs": []
    },
    {
      "cell_type": "markdown",
      "source": [
        "###На полученном наборе данных обучите случайный лес или градиентный бустинг"
      ],
      "metadata": {
        "id": "wgU0I_XvJtIb"
      }
    },
    {
      "cell_type": "markdown",
      "source": [
        "Теперь мы можем использовать случайный лес или градиентный бустинг. Используем случайный лес из библиотеки sklearn, так получается более простая и быстрая модель."
      ],
      "metadata": {
        "id": "ST_UqjbnKHgP"
      }
    },
    {
      "cell_type": "code",
      "source": [
        "from sklearn.ensemble import RandomForestRegressor\n",
        "\n",
        "# Определение признаков и целевой переменной\n",
        "X_train = train.drop('value', axis=1)\n",
        "y_train = train['value']\n",
        "X_test = test.drop('value', axis=1)\n",
        "y_test = test['value']\n",
        "\n",
        "# Обучение модели\n",
        "model = RandomForestRegressor(n_estimators=100, random_state=42)\n",
        "model.fit(X_train, y_train)\n",
        "\n",
        "# Предсказание\n",
        "y_pred = model.predict(X_test)\n",
        "\n",
        "# Оценка качества модели\n",
        "forest_mae = mean_absolute_error(y_test, y_pred)\n",
        "print(f'Mean Absolute Error: {forest_mae}')"
      ],
      "metadata": {
        "colab": {
          "base_uri": "https://localhost:8080/"
        },
        "id": "8S_ptmdrKLi7",
        "outputId": "dd1cfc58-3091-4ccf-ae55-bce2e060de30"
      },
      "execution_count": 21,
      "outputs": [
        {
          "output_type": "stream",
          "name": "stdout",
          "text": [
            "Mean Absolute Error: 0.34105585133935135\n"
          ]
        }
      ]
    },
    {
      "cell_type": "markdown",
      "source": [
        "###Визуализируйте результаты работы модели, произведите замеры качества модели"
      ],
      "metadata": {
        "id": "RIxiC_WFK0LH"
      }
    },
    {
      "cell_type": "markdown",
      "source": [
        "Теперь визуализируем результаты предсказаний модели по сравнению с реальными значениями."
      ],
      "metadata": {
        "id": "FDts7quQK1v5"
      }
    },
    {
      "cell_type": "code",
      "source": [
        "plt.figure(figsize=(14, 7))\n",
        "plt.plot(test.index, y_test, label='Real Values', color='blue')\n",
        "plt.plot(test.index, y_pred, label='Predicted Values', color='red')\n",
        "plt.title('Real vs Predicted Values')\n",
        "plt.xlabel('Timestamp')\n",
        "plt.ylabel('Temperature')\n",
        "plt.legend()\n",
        "plt.show()"
      ],
      "metadata": {
        "colab": {
          "base_uri": "https://localhost:8080/",
          "height": 641
        },
        "id": "CkQKJ4WzK3bw",
        "outputId": "5db37cef-572e-42c6-e126-0f3aafea2271"
      },
      "execution_count": 22,
      "outputs": [
        {
          "output_type": "display_data",
          "data": {
            "text/plain": [
              "<Figure size 1400x700 with 1 Axes>"
            ],
            "image/png": "[encoded data removed]"
          },
          "metadata": {}
        }
      ]
    },
    {
      "cell_type": "markdown",
      "source": [
        "##Нейросетевая модель"
      ],
      "metadata": {
        "id": "LpY323HTK-il"
      }
    },
    {
      "cell_type": "markdown",
      "source": [
        "###Обучить на выбранном временном ряду модель RNNModel из библиотеки ETNA"
      ],
      "metadata": {
        "id": "KT2vD-VZLRrc"
      }
    },
    {
      "cell_type": "code",
      "source": [
        "df = pd.read_csv('machine_temperature_system_failure.csv')\n",
        "df['timestamp'] = pd.to_datetime(df['timestamp'])\n",
        "df = df.rename(columns={'timestamp': 'timestamp', 'value': 'target'})\n",
        "df['segment'] = 'main'\n",
        "df = df.drop_duplicates(subset='timestamp', keep='first')\n",
        "df = TSDataset.to_dataset(df)\n",
        "ts = TSDataset(df, freq='5T')\n",
        "ts.head()"
      ],
      "metadata": {
        "colab": {
          "base_uri": "https://localhost:8080/",
          "height": 269
        },
        "id": "hUVlrgAbSjUb",
        "outputId": "fcc39081-7bed-4ac4-ceb9-663e1fade117"
      },
      "execution_count": 23,
      "outputs": [
        {
          "output_type": "execute_result",
          "data": {
            "text/plain": [
              "segment                   main\n",
              "feature                 target\n",
              "timestamp                     \n",
              "2013-12-02 21:15:00  73.967322\n",
              "2013-12-02 21:20:00  74.935882\n",
              "2013-12-02 21:25:00  76.124162\n",
              "2013-12-02 21:30:00  78.140707\n",
              "2013-12-02 21:35:00  79.329836"
            ],
            "text/html": [
              "\n",
              "  <div id=\"df-5ba049d5-0d61-4078-988e-48580b6a65f4\" class=\"colab-df-container\">\n",
              "    <div>\n",
              "<style scoped>\n",
              "    .dataframe tbody tr th:only-of-type {\n",
              "        vertical-align: middle;\n",
              "    }\n",
              "\n",
              "    .dataframe tbody tr th {\n",
              "        vertical-align: top;\n",
              "    }\n",
              "\n",
              "    .dataframe thead tr th {\n",
              "        text-align: left;\n",
              "    }\n",
              "\n",
              "    .dataframe thead tr:last-of-type th {\n",
              "        text-align: right;\n",
              "    }\n",
              "</style>\n",
              "<table border=\"1\" class=\"dataframe\">\n",
              "  <thead>\n",
              "    <tr>\n",
              "      <th>segment</th>\n",
              "      <th>main</th>\n",
              "    </tr>\n",
              "    <tr>\n",
              "      <th>feature</th>\n",
              "      <th>target</th>\n",
              "    </tr>\n",
              "    <tr>\n",
              "      <th>timestamp</th>\n",
              "      <th></th>\n",
              "    </tr>\n",
              "  </thead>\n",
              "  <tbody>\n",
              "    <tr>\n",
              "      <th>2013-12-02 21:15:00</th>\n",
              "      <td>73.967322</td>\n",
              "    </tr>\n",
              "    <tr>\n",
              "      <th>2013-12-02 21:20:00</th>\n",
              "      <td>74.935882</td>\n",
              "    </tr>\n",
              "    <tr>\n",
              "      <th>2013-12-02 21:25:00</th>\n",
              "      <td>76.124162</td>\n",
              "    </tr>\n",
              "    <tr>\n",
              "      <th>2013-12-02 21:30:00</th>\n",
              "      <td>78.140707</td>\n",
              "    </tr>\n",
              "    <tr>\n",
              "      <th>2013-12-02 21:35:00</th>\n",
              "      <td>79.329836</td>\n",
              "    </tr>\n",
              "  </tbody>\n",
              "</table>\n",
              "</div>\n",
              "    <div class=\"colab-df-buttons\">\n",
              "\n",
              "  <div class=\"colab-df-container\">\n",
              "    <button class=\"colab-df-convert\" onclick=\"convertToInteractive('df-5ba049d5-0d61-4078-988e-48580b6a65f4')\"\n",
              "            title=\"Convert this dataframe to an interactive table.\"\n",
              "            style=\"display:none;\">\n",
              "\n",
              "  <svg xmlns=\"http://www.w3.org/2000/svg\" height=\"24px\" viewBox=\"0 -960 960 960\">\n",
              "    <path d=\"M120-120v-720h720v720H120Zm60-500h600v-160H180v160Zm220 220h160v-160H400v160Zm0 220h160v-160H400v160ZM180-400h160v-160H180v160Zm440 0h160v-160H620v160ZM180-180h160v-160H180v160Zm440 0h160v-160H620v160Z\"/>\n",
              "  </svg>\n",
              "    </button>\n",
              "\n",
              "  <style>\n",
              "    .colab-df-container {\n",
              "      display:flex;\n",
              "      gap: 12px;\n",
              "    }\n",
              "\n",
              "    .colab-df-convert {\n",
              "      background-color: #E8F0FE;\n",
              "      border: none;\n",
              "      border-radius: 50%;\n",
              "      cursor: pointer;\n",
              "      display: none;\n",
              "      fill: #1967D2;\n",
              "      height: 32px;\n",
              "      padding: 0 0 0 0;\n",
              "      width: 32px;\n",
              "    }\n",
              "\n",
              "    .colab-df-convert:hover {\n",
              "      background-color: #E2EBFA;\n",
              "      box-shadow: 0px 1px 2px rgba(60, 64, 67, 0.3), 0px 1px 3px 1px rgba(60, 64, 67, 0.15);\n",
              "      fill: #174EA6;\n",
              "    }\n",
              "\n",
              "    .colab-df-buttons div {\n",
              "      margin-bottom: 4px;\n",
              "    }\n",
              "\n",
              "    [theme=dark] .colab-df-convert {\n",
              "      background-color: #3B4455;\n",
              "      fill: #D2E3FC;\n",
              "    }\n",
              "\n",
              "    [theme=dark] .colab-df-convert:hover {\n",
              "      background-color: #434B5C;\n",
              "      box-shadow: 0px 1px 3px 1px rgba(0, 0, 0, 0.15);\n",
              "      filter: drop-shadow(0px 1px 2px rgba(0, 0, 0, 0.3));\n",
              "      fill: #FFFFFF;\n",
              "    }\n",
              "  </style>\n",
              "\n",
              "    <script>\n",
              "      const buttonEl =\n",
              "        document.querySelector('#df-5ba049d5-0d61-4078-988e-48580b6a65f4 button.colab-df-convert');\n",
              "      buttonEl.style.display =\n",
              "        google.colab.kernel.accessAllowed ? 'block' : 'none';\n",
              "\n",
              "      async function convertToInteractive(key) {\n",
              "        const element = document.querySelector('#df-5ba049d5-0d61-4078-988e-48580b6a65f4');\n",
              "        const dataTable =\n",
              "          await google.colab.kernel.invokeFunction('convertToInteractive',\n",
              "                                                    [key], {});\n",
              "        if (!dataTable) return;\n",
              "\n",
              "        const docLinkHtml = 'Like what you see? Visit the ' +\n",
              "          '<a target=\"_blank\" href=https://colab.research.google.com/notebooks/data_table.ipynb>data table notebook</a>'\n",
              "          + ' to learn more about interactive tables.';\n",
              "        element.innerHTML = '';\n",
              "        dataTable['output_type'] = 'display_data';\n",
              "        await google.colab.output.renderOutput(dataTable, element);\n",
              "        const docLink = document.createElement('div');\n",
              "        docLink.innerHTML = docLinkHtml;\n",
              "        element.appendChild(docLink);\n",
              "      }\n",
              "    </script>\n",
              "  </div>\n",
              "\n",
              "\n",
              "<div id=\"df-c9d5caed-737d-4274-84b3-080145ca3576\">\n",
              "  <button class=\"colab-df-quickchart\" onclick=\"quickchart('df-c9d5caed-737d-4274-84b3-080145ca3576')\"\n",
              "            title=\"Suggest charts\"\n",
              "            style=\"display:none;\">\n",
              "\n",
              "<svg xmlns=\"http://www.w3.org/2000/svg\" height=\"24px\"viewBox=\"0 0 24 24\"\n",
              "     width=\"24px\">\n",
              "    <g>\n",
              "        <path d=\"M19 3H5c-1.1 0-2 .9-2 2v14c0 1.1.9 2 2 2h14c1.1 0 2-.9 2-2V5c0-1.1-.9-2-2-2zM9 17H7v-7h2v7zm4 0h-2V7h2v10zm4 0h-2v-4h2v4z\"/>\n",
              "    </g>\n",
              "</svg>\n",
              "  </button>\n",
              "\n",
              "<style>\n",
              "  .colab-df-quickchart {\n",
              "      --bg-color: #E8F0FE;\n",
              "      --fill-color: #1967D2;\n",
              "      --hover-bg-color: #E2EBFA;\n",
              "      --hover-fill-color: #174EA6;\n",
              "      --disabled-fill-color: #AAA;\n",
              "      --disabled-bg-color: #DDD;\n",
              "  }\n",
              "\n",
              "  [theme=dark] .colab-df-quickchart {\n",
              "      --bg-color: #3B4455;\n",
              "      --fill-color: #D2E3FC;\n",
              "      --hover-bg-color: #434B5C;\n",
              "      --hover-fill-color: #FFFFFF;\n",
              "      --disabled-bg-color: #3B4455;\n",
              "      --disabled-fill-color: #666;\n",
              "  }\n",
              "\n",
              "  .colab-df-quickchart {\n",
              "    background-color: var(--bg-color);\n",
              "    border: none;\n",
              "    border-radius: 50%;\n",
              "    cursor: pointer;\n",
              "    display: none;\n",
              "    fill: var(--fill-color);\n",
              "    height: 32px;\n",
              "    padding: 0;\n",
              "    width: 32px;\n",
              "  }\n",
              "\n",
              "  .colab-df-quickchart:hover {\n",
              "    background-color: var(--hover-bg-color);\n",
              "    box-shadow: 0 1px 2px rgba(60, 64, 67, 0.3), 0 1px 3px 1px rgba(60, 64, 67, 0.15);\n",
              "    fill: var(--button-hover-fill-color);\n",
              "  }\n",
              "\n",
              "  .colab-df-quickchart-complete:disabled,\n",
              "  .colab-df-quickchart-complete:disabled:hover {\n",
              "    background-color: var(--disabled-bg-color);\n",
              "    fill: var(--disabled-fill-color);\n",
              "    box-shadow: none;\n",
              "  }\n",
              "\n",
              "  .colab-df-spinner {\n",
              "    border: 2px solid var(--fill-color);\n",
              "    border-color: transparent;\n",
              "    border-bottom-color: var(--fill-color);\n",
              "    animation:\n",
              "      spin 1s steps(1) infinite;\n",
              "  }\n",
              "\n",
              "  @keyframes spin {\n",
              "    0% {\n",
              "      border-color: transparent;\n",
              "      border-bottom-color: var(--fill-color);\n",
              "      border-left-color: var(--fill-color);\n",
              "    }\n",
              "    20% {\n",
              "      border-color: transparent;\n",
              "      border-left-color: var(--fill-color);\n",
              "      border-top-color: var(--fill-color);\n",
              "    }\n",
              "    30% {\n",
              "      border-color: transparent;\n",
              "      border-left-color: var(--fill-color);\n",
              "      border-top-color: var(--fill-color);\n",
              "      border-right-color: var(--fill-color);\n",
              "    }\n",
              "    40% {\n",
              "      border-color: transparent;\n",
              "      border-right-color: var(--fill-color);\n",
              "      border-top-color: var(--fill-color);\n",
              "    }\n",
              "    60% {\n",
              "      border-color: transparent;\n",
              "      border-right-color: var(--fill-color);\n",
              "    }\n",
              "    80% {\n",
              "      border-color: transparent;\n",
              "      border-right-color: var(--fill-color);\n",
              "      border-bottom-color: var(--fill-color);\n",
              "    }\n",
              "    90% {\n",
              "      border-color: transparent;\n",
              "      border-bottom-color: var(--fill-color);\n",
              "    }\n",
              "  }\n",
              "</style>\n",
              "\n",
              "  <script>\n",
              "    async function quickchart(key) {\n",
              "      const quickchartButtonEl =\n",
              "        document.querySelector('#' + key + ' button');\n",
              "      quickchartButtonEl.disabled = true;  // To prevent multiple clicks.\n",
              "      quickchartButtonEl.classList.add('colab-df-spinner');\n",
              "      try {\n",
              "        const charts = await google.colab.kernel.invokeFunction(\n",
              "            'suggestCharts', [key], {});\n",
              "      } catch (error) {\n",
              "        console.error('Error during call to suggestCharts:', error);\n",
              "      }\n",
              "      quickchartButtonEl.classList.remove('colab-df-spinner');\n",
              "      quickchartButtonEl.classList.add('colab-df-quickchart-complete');\n",
              "    }\n",
              "    (() => {\n",
              "      let quickchartButtonEl =\n",
              "        document.querySelector('#df-c9d5caed-737d-4274-84b3-080145ca3576 button');\n",
              "      quickchartButtonEl.style.display =\n",
              "        google.colab.kernel.accessAllowed ? 'block' : 'none';\n",
              "    })();\n",
              "  </script>\n",
              "</div>\n",
              "    </div>\n",
              "  </div>\n"
            ],
            "application/vnd.google.colaboratory.intrinsic+json": {
              "type": "dataframe",
              "summary": "{\n  \"name\": \"ts\",\n  \"rows\": 5,\n  \"fields\": [\n    {\n      \"column\": [\n        \"timestamp\",\n        \"\"\n      ],\n      \"properties\": {\n        \"dtype\": \"date\",\n        \"min\": \"2013-12-02 21:15:00\",\n        \"max\": \"2013-12-02 21:35:00\",\n        \"num_unique_values\": 5,\n        \"samples\": [\n          \"2013-12-02 21:20:00\",\n          \"2013-12-02 21:35:00\",\n          \"2013-12-02 21:25:00\"\n        ],\n        \"semantic_type\": \"\",\n        \"description\": \"\"\n      }\n    },\n    {\n      \"column\": [\n        \"main\",\n        \"target\"\n      ],\n      \"properties\": {\n        \"dtype\": \"number\",\n        \"std\": 2.2193505189223592,\n        \"min\": 73.96732207,\n        \"max\": 79.32983574,\n        \"num_unique_values\": 5,\n        \"samples\": [\n          74.93588199999998,\n          79.32983574,\n          76.12416182\n        ],\n        \"semantic_type\": \"\",\n        \"description\": \"\"\n      }\n    }\n  ]\n}"
            }
          },
          "metadata": {},
          "execution_count": 23
        }
      ]
    },
    {
      "cell_type": "code",
      "source": [
        "HORIZON = 7\n",
        "model_rnn = RNNModel(\n",
        "    decoder_length=HORIZON,\n",
        "    encoder_length=2 * HORIZON,\n",
        "    input_size=11,\n",
        "    trainer_params=dict(max_epochs=5),\n",
        "    lr=1e-3,\n",
        ")\n",
        "\n",
        "num_lags = 10\n",
        "transform_lag = LagTransform(\n",
        "    in_column='target',\n",
        "    lags=[HORIZON + i for i in range(num_lags)],\n",
        "    out_column='target_lag'\n",
        ")\n",
        "\n",
        "pipeline_rnn = Pipeline(\n",
        "    model=model_rnn,\n",
        "    horizon=HORIZON,\n",
        "    transforms=[StandardScalerTransform(in_column=\"target\"), transform_lag],\n",
        ")\n",
        "metrics = [SMAPE(), MAPE(), MAE()]\n",
        "metrics_rnn, forecast_rnn, fold_info_rnn = pipeline_rnn.backtest(ts, metrics=metrics, n_folds=3, n_jobs=1)"
      ],
      "metadata": {
        "colab": {
          "base_uri": "https://localhost:8080/",
          "height": 1000,
          "referenced_widgets": [
            "0707a39ba678406fadeba13838142b95",
            "32ee23d75f54494fbbb7824102af0194",
            "8489da25b87a474e934c09a5d4925d2b",
            "4d4d5138d57941a5a08a6459629c849b",
            "fc2b64b22a6f421e8ce886da5973c90e",
            "970505aea6d84dbf93213dcdd669efbc",
            "5584d81f734f4bab9a1a9fbbaec9c8a6",
            "ee604c799374423fa262c91cf82b3dac",
            "5cb1de07099d4b71ab891e32fc809676",
            "d971740f8d6541a592797c099bf203f4",
            "0219064fb8604e8ca35954f89008aa15",
            "ff401d56560f41ed8567ed99e126f433",
            "3950058e03594363a72a65335c62dea6",
            "ba179483f2d04d21bfaca8c8dfef7f37",
            "078ee0e5913646db92776046ad839539",
            "79e137a9f46747219c15f83500454016",
            "7875fceb14174e4d84f5357f8fcdda36",
            "a766761a57244a74ac03670dea05bcc2",
            "89efe7dea7a048cc8c9518be624404ec",
            "454e67de89da4fc6a36b0feebae8afe8",
            "f3c432af8aa3421390a44df68daf5b94",
            "120fde99dc8145be8b3464eb13baf60b",
            "0ddac77974a4431d8b3516cde4aff770",
            "8c753e8dec574bf19fb6a3f139290d7d",
            "b87df51ae7be48ba82272ff1563c753d",
            "7d5a83b04ab44751a6265285851c4d5a",
            "21ccf199b3664d30ac45975bdd8f6208",
            "59337c0b83214bde80f38a0ab272a17d",
            "ef7a571938d04370bcfe5630970dd733",
            "af06c13a04a647fda6ad06b5ae036ce1",
            "44d8a6ac76de48c4818fc2ce466eaaad",
            "bdb69a40e1e94b7390e3023388242811",
            "b23287f6673f42dbaa8d8a81feb2e5bc"
          ]
        },
        "id": "odCrzn4uSmLf",
        "outputId": "06329882-1be4-4438-b0a0-896301a4259e"
      },
      "execution_count": 24,
      "outputs": [
        {
          "output_type": "stream",
          "name": "stderr",
          "text": [
            "/usr/local/lib/python3.10/dist-packages/pytorch_lightning/utilities/parsing.py:269: UserWarning: Attribute 'loss' is an instance of `nn.Module` and is already saved during checkpointing. It is recommended to ignore them using `self.save_hyperparameters(ignore=['loss'])`.\n",
            "  rank_zero_warn(\n",
            "INFO:pytorch_lightning.utilities.rank_zero:GPU available: False, used: False\n",
            "INFO:pytorch_lightning.utilities.rank_zero:TPU available: False, using: 0 TPU cores\n",
            "INFO:pytorch_lightning.utilities.rank_zero:IPU available: False, using: 0 IPUs\n",
            "INFO:pytorch_lightning.utilities.rank_zero:HPU available: False, using: 0 HPUs\n",
            "/usr/local/lib/python3.10/dist-packages/pytorch_lightning/trainer/configuration_validator.py:108: PossibleUserWarning: You defined a `validation_step` but have no `val_dataloader`. Skipping val loop.\n",
            "  rank_zero_warn(\n",
            "INFO:pytorch_lightning.callbacks.model_summary:\n",
            "  | Name       | Type    | Params\n",
            "---------------------------------------\n",
            "0 | loss       | MSELoss | 0     \n",
            "1 | rnn        | LSTM    | 4.0 K \n",
            "2 | projection | Linear  | 17    \n",
            "---------------------------------------\n",
            "4.0 K     Trainable params\n",
            "0         Non-trainable params\n",
            "4.0 K     Total params\n",
            "0.016     Total estimated model params size (MB)\n"
          ]
        },
        {
          "output_type": "display_data",
          "data": {
            "text/plain": [
              "Training: 0it [00:00, ?it/s]"
            ],
            "application/vnd.jupyter.widget-view+json": {
              "version_major": 2,
              "version_minor": 0,
              "model_id": "0707a39ba678406fadeba13838142b95"
            }
          },
          "metadata": {}
        },
        {
          "output_type": "stream",
          "name": "stderr",
          "text": [
            "INFO:pytorch_lightning.utilities.rank_zero:`Trainer.fit` stopped: `max_epochs=5` reached.\n",
            "[Parallel(n_jobs=1)]: Done   1 tasks      | elapsed:  3.7min\n",
            "INFO:pytorch_lightning.utilities.rank_zero:GPU available: False, used: False\n",
            "INFO:pytorch_lightning.utilities.rank_zero:TPU available: False, using: 0 TPU cores\n",
            "INFO:pytorch_lightning.utilities.rank_zero:IPU available: False, using: 0 IPUs\n",
            "INFO:pytorch_lightning.utilities.rank_zero:HPU available: False, using: 0 HPUs\n",
            "/usr/local/lib/python3.10/dist-packages/pytorch_lightning/trainer/configuration_validator.py:108: PossibleUserWarning: You defined a `validation_step` but have no `val_dataloader`. Skipping val loop.\n",
            "  rank_zero_warn(\n",
            "/usr/local/lib/python3.10/dist-packages/pytorch_lightning/callbacks/model_checkpoint.py:613: UserWarning: Checkpoint directory /content/checkpoints exists and is not empty.\n",
            "  rank_zero_warn(f\"Checkpoint directory {dirpath} exists and is not empty.\")\n",
            "INFO:pytorch_lightning.callbacks.model_summary:\n",
            "  | Name       | Type    | Params\n",
            "---------------------------------------\n",
            "0 | loss       | MSELoss | 0     \n",
            "1 | rnn        | LSTM    | 4.0 K \n",
            "2 | projection | Linear  | 17    \n",
            "---------------------------------------\n",
            "4.0 K     Trainable params\n",
            "0         Non-trainable params\n",
            "4.0 K     Total params\n",
            "0.016     Total estimated model params size (MB)\n"
          ]
        },
        {
          "output_type": "display_data",
          "data": {
            "text/plain": [
              "Training: 0it [00:00, ?it/s]"
            ],
            "application/vnd.jupyter.widget-view+json": {
              "version_major": 2,
              "version_minor": 0,
              "model_id": "ff401d56560f41ed8567ed99e126f433"
            }
          },
          "metadata": {}
        },
        {
          "output_type": "stream",
          "name": "stderr",
          "text": [
            "INFO:pytorch_lightning.utilities.rank_zero:`Trainer.fit` stopped: `max_epochs=5` reached.\n",
            "[Parallel(n_jobs=1)]: Done   2 tasks      | elapsed:  7.1min\n",
            "INFO:pytorch_lightning.utilities.rank_zero:GPU available: False, used: False\n",
            "INFO:pytorch_lightning.utilities.rank_zero:TPU available: False, using: 0 TPU cores\n",
            "INFO:pytorch_lightning.utilities.rank_zero:IPU available: False, using: 0 IPUs\n",
            "INFO:pytorch_lightning.utilities.rank_zero:HPU available: False, using: 0 HPUs\n",
            "/usr/local/lib/python3.10/dist-packages/pytorch_lightning/trainer/configuration_validator.py:108: PossibleUserWarning: You defined a `validation_step` but have no `val_dataloader`. Skipping val loop.\n",
            "  rank_zero_warn(\n",
            "/usr/local/lib/python3.10/dist-packages/pytorch_lightning/callbacks/model_checkpoint.py:613: UserWarning: Checkpoint directory /content/checkpoints exists and is not empty.\n",
            "  rank_zero_warn(f\"Checkpoint directory {dirpath} exists and is not empty.\")\n",
            "INFO:pytorch_lightning.callbacks.model_summary:\n",
            "  | Name       | Type    | Params\n",
            "---------------------------------------\n",
            "0 | loss       | MSELoss | 0     \n",
            "1 | rnn        | LSTM    | 4.0 K \n",
            "2 | projection | Linear  | 17    \n",
            "---------------------------------------\n",
            "4.0 K     Trainable params\n",
            "0         Non-trainable params\n",
            "4.0 K     Total params\n",
            "0.016     Total estimated model params size (MB)\n"
          ]
        },
        {
          "output_type": "display_data",
          "data": {
            "text/plain": [
              "Training: 0it [00:00, ?it/s]"
            ],
            "application/vnd.jupyter.widget-view+json": {
              "version_major": 2,
              "version_minor": 0,
              "model_id": "0ddac77974a4431d8b3516cde4aff770"
            }
          },
          "metadata": {}
        },
        {
          "output_type": "stream",
          "name": "stderr",
          "text": [
            "INFO:pytorch_lightning.utilities.rank_zero:`Trainer.fit` stopped: `max_epochs=5` reached.\n",
            "[Parallel(n_jobs=1)]: Done   3 tasks      | elapsed: 10.6min\n",
            "[Parallel(n_jobs=1)]: Done   3 tasks      | elapsed: 10.6min\n",
            "[Parallel(n_jobs=1)]: Done   1 tasks      | elapsed:    0.3s\n",
            "[Parallel(n_jobs=1)]: Done   2 tasks      | elapsed:    0.6s\n",
            "[Parallel(n_jobs=1)]: Done   3 tasks      | elapsed:    0.9s\n",
            "[Parallel(n_jobs=1)]: Done   3 tasks      | elapsed:    0.9s\n",
            "[Parallel(n_jobs=1)]: Done   1 tasks      | elapsed:    0.6s\n",
            "[Parallel(n_jobs=1)]: Done   2 tasks      | elapsed:    0.8s\n",
            "[Parallel(n_jobs=1)]: Done   3 tasks      | elapsed:    1.0s\n",
            "[Parallel(n_jobs=1)]: Done   3 tasks      | elapsed:    1.0s\n"
          ]
        }
      ]
    },
    {
      "cell_type": "code",
      "source": [
        "rnn_mae = metrics_rnn[\"MAE\"].mean()\n",
        "print(f\"Усредненное значение MAE для LSTM: {rnn_mae:.3f}\")\n",
        "plot_backtest(forecast_rnn, ts, history_len=20)"
      ],
      "metadata": {
        "colab": {
          "base_uri": "https://localhost:8080/",
          "height": 545
        },
        "id": "CEA2haXKVHEp",
        "outputId": "0aabf750-a170-4c25-dfd6-cc3a974ae43f"
      },
      "execution_count": 26,
      "outputs": [
        {
          "output_type": "stream",
          "name": "stdout",
          "text": [
            "Усредненное значение MAE для LSTM: 0.756\n"
          ]
        },
        {
          "output_type": "display_data",
          "data": {
            "text/plain": [
              "<Figure size 1000x500 with 1 Axes>"
            ],
            "image/png": "[encoded data removed]"
          },
          "metadata": {}
        }
      ]
    },
    {
      "cell_type": "markdown",
      "source": [
        "### Обучение модели DeepAR с Feature Engineering"
      ],
      "metadata": {
        "id": "pBk-knm4MnSA"
      }
    },
    {
      "cell_type": "code",
      "source": [
        "transform_date = DateFlagsTransform(\n",
        "    day_number_in_week=True,\n",
        "    day_number_in_month=False,\n",
        "    out_column='dateflag'\n",
        ")\n",
        "\n",
        "num_lags = 10\n",
        "transform_lag = LagTransform(\n",
        "    in_column='target',\n",
        "    lags=[HORIZON + i for i in range(num_lags)],\n",
        "    out_column='target_lag'\n",
        ")\n",
        "lag_columns = [f'target_lag_{HORIZON+i}' for i in range(num_lags)]\n",
        "\n",
        "dataset_builder_deepar = PytorchForecastingDatasetBuilder(\n",
        "    max_encoder_length=HORIZON,\n",
        "    max_prediction_length=HORIZON,\n",
        "    time_varying_known_reals=['time_idx'] + lag_columns,\n",
        "    time_varying_unknown_reals=['target'],\n",
        "    time_varying_known_categoricals=['dateflag_day_number_in_week'],\n",
        "    target_normalizer=GroupNormalizer(groups=['segment']),\n",
        ")\n",
        "\n",
        "model_deepar = DeepARModel(\n",
        "    dataset_builder=dataset_builder_deepar,\n",
        "    trainer_params=dict(max_epochs=5, gpus=0, gradient_clip_val=0.1),\n",
        "    lr=0.01,\n",
        "    train_batch_size=64\n",
        ")\n",
        "\n",
        "pipeline_deepar = Pipeline(\n",
        "    model=model_deepar,\n",
        "    horizon=HORIZON,\n",
        "    transforms=[transform_lag, transform_date]\n",
        ")\n",
        "\n",
        "metrics_deepar, forecast_deepar, _ = pipeline_deepar.backtest(ts, metrics=metrics, n_folds=3, n_jobs=1)"
      ],
      "metadata": {
        "colab": {
          "base_uri": "https://localhost:8080/",
          "height": 1000,
          "referenced_widgets": [
            "66acd81406654e74aa880b8435c8cdd0",
            "24f9be85c24c4733865fe8add729235d",
            "b2b5544172cb40ccac8cdd3041c59d10",
            "54fe5b2bc4e348f3a2595bd528b80af9",
            "28d793257de24cd598348b738e2b9788",
            "7c66e00298954a0f871de1388862ac39",
            "336da4f70f834acbb64da5b1dafbd278",
            "860dad63261342719383a6e77c7f2107",
            "86136977016d465d9d71dfc887377e6d",
            "b2c46b4c482749688523d3e5acd8c8ee",
            "32b73b10bb77441abb1730b3abdc9380",
            "7ff37debed804a04810dcee7891a70b1",
            "89ebcf8aab1a4350aa911ac6bbfab0e1",
            "fa2b26541a974544aff2aad9bf4efd4c",
            "c48cba5f58f8408c97869d7b452a45ef",
            "c97bc221475c4b01bfbf4a72782794f1",
            "4cc1a33cb387427da6336206aa71275b",
            "56a84cbb3b0245b5bb329e0886d37aab",
            "fbb944fa5c8c47a7b376bcdb04a515e4",
            "5b08fbbfa96548699ea91728033849ea",
            "fa308f66c6fb41a3bbf6a1086ff4955c",
            "0133263d6c144e0b8e2a6d1fc6b76d1f",
            "d0a845c9daaf4a0b992d2b2d34d4e720",
            "de9743bd328042fa81de574a2c34bff2",
            "64cadb45fbc449d7b47872e424380ff7",
            "7cd0004395774e798ab4342d0cd66f99",
            "856ebcc037584e88b7b6581100391245",
            "da26f07c37c046a09870aabbfe0c9365",
            "48ae18a3fcb14cc29ee2eeac16bee1e2",
            "3687d06448304dcb9c0dd7535b9a99bb",
            "706d73edc6c34370a4618ab97cb15836",
            "a4e3127a9c874e3285705179004749c1",
            "daa9989acd054660a307bfb0608bd0a9"
          ]
        },
        "id": "M3YFfo-6SjqY",
        "outputId": "f761b78e-61ff-4fb3-cb1f-361278ae0139"
      },
      "execution_count": 27,
      "outputs": [
        {
          "output_type": "stream",
          "name": "stderr",
          "text": [
            "<ipython-input-27-380ef5cb42ca>:24: DeprecationWarning: Call to deprecated class DeepARModel. (DeepARModel is deprecated. Use DeepARNativeModel instead.) -- Deprecated since version 3.0.\n",
            "  model_deepar = DeepARModel(\n",
            "/usr/local/lib/python3.10/dist-packages/pytorch_lightning/trainer/connectors/accelerator_connector.py:478: LightningDeprecationWarning: Setting `Trainer(gpus=0)` is deprecated in v1.7 and will be removed in v2.0. Please use `Trainer(accelerator='gpu', devices=0)` instead.\n",
            "  rank_zero_deprecation(\n",
            "INFO:pytorch_lightning.utilities.rank_zero:GPU available: False, used: False\n",
            "INFO:pytorch_lightning.utilities.rank_zero:TPU available: False, using: 0 TPU cores\n",
            "INFO:pytorch_lightning.utilities.rank_zero:IPU available: False, using: 0 IPUs\n",
            "INFO:pytorch_lightning.utilities.rank_zero:HPU available: False, using: 0 HPUs\n",
            "/usr/local/lib/python3.10/dist-packages/pytorch_lightning/utilities/parsing.py:269: UserWarning: Attribute 'loss' is an instance of `nn.Module` and is already saved during checkpointing. It is recommended to ignore them using `self.save_hyperparameters(ignore=['loss'])`.\n",
            "  rank_zero_warn(\n",
            "/usr/local/lib/python3.10/dist-packages/pytorch_lightning/utilities/parsing.py:269: UserWarning: Attribute 'logging_metrics' is an instance of `nn.Module` and is already saved during checkpointing. It is recommended to ignore them using `self.save_hyperparameters(ignore=['logging_metrics'])`.\n",
            "  rank_zero_warn(\n",
            "/usr/local/lib/python3.10/dist-packages/pytorch_lightning/trainer/configuration_validator.py:108: PossibleUserWarning: You defined a `validation_step` but have no `val_dataloader`. Skipping val loop.\n",
            "  rank_zero_warn(\n",
            "/usr/local/lib/python3.10/dist-packages/pytorch_lightning/callbacks/model_checkpoint.py:613: UserWarning: Checkpoint directory /content/checkpoints exists and is not empty.\n",
            "  rank_zero_warn(f\"Checkpoint directory {dirpath} exists and is not empty.\")\n",
            "INFO:pytorch_lightning.callbacks.model_summary:\n",
            "  | Name                   | Type                   | Params\n",
            "------------------------------------------------------------------\n",
            "0 | loss                   | NormalDistributionLoss | 0     \n",
            "1 | logging_metrics        | ModuleList             | 0     \n",
            "2 | embeddings             | MultiEmbedding         | 35    \n",
            "3 | rnn                    | LSTM                   | 2.2 K \n",
            "4 | distribution_projector | Linear                 | 22    \n",
            "------------------------------------------------------------------\n",
            "2.3 K     Trainable params\n",
            "0         Non-trainable params\n",
            "2.3 K     Total params\n",
            "0.009     Total estimated model params size (MB)\n"
          ]
        },
        {
          "output_type": "display_data",
          "data": {
            "text/plain": [
              "Training: 0it [00:00, ?it/s]"
            ],
            "application/vnd.jupyter.widget-view+json": {
              "version_major": 2,
              "version_minor": 0,
              "model_id": "66acd81406654e74aa880b8435c8cdd0"
            }
          },
          "metadata": {}
        },
        {
          "output_type": "stream",
          "name": "stderr",
          "text": [
            "/usr/local/lib/python3.10/dist-packages/pytorch_forecasting/data/timeseries.py:1657: UserWarning: Creating a tensor from a list of numpy.ndarrays is extremely slow. Please consider converting the list to a single numpy.ndarray with numpy.array() before converting to a tensor. (Triggered internally at ../torch/csrc/utils/tensor_new.cpp:230.)\n",
            "  target_scale = torch.tensor([batch[0][\"target_scale\"] for batch in batches], dtype=torch.float)\n",
            "/usr/local/lib/python3.10/dist-packages/pytorch_lightning/utilities/data.py:83: UserWarning: Trying to infer the `batch_size` from an ambiguous collection. The batch size we found is 64. To avoid any miscalculations, use `self.log(..., batch_size=batch_size)`.\n",
            "  warning_cache.warn(\n",
            "/usr/local/lib/python3.10/dist-packages/pytorch_lightning/loops/epoch/training_epoch_loop.py:445: RuntimeWarning: ReduceLROnPlateau conditioned on metric val_loss which is not available but strict is set to `False`. Skipping learning rate update.\n",
            "  rank_zero_warn(\n",
            "INFO:pytorch_lightning.utilities.rank_zero:`Trainer.fit` stopped: `max_epochs=5` reached.\n",
            "[Parallel(n_jobs=1)]: Done   1 tasks      | elapsed:  2.7min\n",
            "/usr/local/lib/python3.10/dist-packages/pytorch_lightning/trainer/connectors/accelerator_connector.py:478: LightningDeprecationWarning: Setting `Trainer(gpus=0)` is deprecated in v1.7 and will be removed in v2.0. Please use `Trainer(accelerator='gpu', devices=0)` instead.\n",
            "  rank_zero_deprecation(\n",
            "INFO:pytorch_lightning.utilities.rank_zero:GPU available: False, used: False\n",
            "INFO:pytorch_lightning.utilities.rank_zero:TPU available: False, using: 0 TPU cores\n",
            "INFO:pytorch_lightning.utilities.rank_zero:IPU available: False, using: 0 IPUs\n",
            "INFO:pytorch_lightning.utilities.rank_zero:HPU available: False, using: 0 HPUs\n",
            "/usr/local/lib/python3.10/dist-packages/pytorch_lightning/utilities/parsing.py:269: UserWarning: Attribute 'loss' is an instance of `nn.Module` and is already saved during checkpointing. It is recommended to ignore them using `self.save_hyperparameters(ignore=['loss'])`.\n",
            "  rank_zero_warn(\n",
            "/usr/local/lib/python3.10/dist-packages/pytorch_lightning/utilities/parsing.py:269: UserWarning: Attribute 'logging_metrics' is an instance of `nn.Module` and is already saved during checkpointing. It is recommended to ignore them using `self.save_hyperparameters(ignore=['logging_metrics'])`.\n",
            "  rank_zero_warn(\n",
            "/usr/local/lib/python3.10/dist-packages/pytorch_lightning/trainer/configuration_validator.py:108: PossibleUserWarning: You defined a `validation_step` but have no `val_dataloader`. Skipping val loop.\n",
            "  rank_zero_warn(\n",
            "/usr/local/lib/python3.10/dist-packages/pytorch_lightning/callbacks/model_checkpoint.py:613: UserWarning: Checkpoint directory /content/checkpoints exists and is not empty.\n",
            "  rank_zero_warn(f\"Checkpoint directory {dirpath} exists and is not empty.\")\n",
            "INFO:pytorch_lightning.callbacks.model_summary:\n",
            "  | Name                   | Type                   | Params\n",
            "------------------------------------------------------------------\n",
            "0 | loss                   | NormalDistributionLoss | 0     \n",
            "1 | logging_metrics        | ModuleList             | 0     \n",
            "2 | embeddings             | MultiEmbedding         | 35    \n",
            "3 | rnn                    | LSTM                   | 2.2 K \n",
            "4 | distribution_projector | Linear                 | 22    \n",
            "------------------------------------------------------------------\n",
            "2.3 K     Trainable params\n",
            "0         Non-trainable params\n",
            "2.3 K     Total params\n",
            "0.009     Total estimated model params size (MB)\n"
          ]
        },
        {
          "output_type": "display_data",
          "data": {
            "text/plain": [
              "Training: 0it [00:00, ?it/s]"
            ],
            "application/vnd.jupyter.widget-view+json": {
              "version_major": 2,
              "version_minor": 0,
              "model_id": "7ff37debed804a04810dcee7891a70b1"
            }
          },
          "metadata": {}
        },
        {
          "output_type": "stream",
          "name": "stderr",
          "text": [
            "/usr/local/lib/python3.10/dist-packages/pytorch_lightning/loops/epoch/training_epoch_loop.py:445: RuntimeWarning: ReduceLROnPlateau conditioned on metric val_loss which is not available but strict is set to `False`. Skipping learning rate update.\n",
            "  rank_zero_warn(\n",
            "INFO:pytorch_lightning.utilities.rank_zero:`Trainer.fit` stopped: `max_epochs=5` reached.\n",
            "[Parallel(n_jobs=1)]: Done   2 tasks      | elapsed:  5.4min\n",
            "/usr/local/lib/python3.10/dist-packages/pytorch_lightning/trainer/connectors/accelerator_connector.py:478: LightningDeprecationWarning: Setting `Trainer(gpus=0)` is deprecated in v1.7 and will be removed in v2.0. Please use `Trainer(accelerator='gpu', devices=0)` instead.\n",
            "  rank_zero_deprecation(\n",
            "INFO:pytorch_lightning.utilities.rank_zero:GPU available: False, used: False\n",
            "INFO:pytorch_lightning.utilities.rank_zero:TPU available: False, using: 0 TPU cores\n",
            "INFO:pytorch_lightning.utilities.rank_zero:IPU available: False, using: 0 IPUs\n",
            "INFO:pytorch_lightning.utilities.rank_zero:HPU available: False, using: 0 HPUs\n",
            "/usr/local/lib/python3.10/dist-packages/pytorch_lightning/utilities/parsing.py:269: UserWarning: Attribute 'loss' is an instance of `nn.Module` and is already saved during checkpointing. It is recommended to ignore them using `self.save_hyperparameters(ignore=['loss'])`.\n",
            "  rank_zero_warn(\n",
            "/usr/local/lib/python3.10/dist-packages/pytorch_lightning/utilities/parsing.py:269: UserWarning: Attribute 'logging_metrics' is an instance of `nn.Module` and is already saved during checkpointing. It is recommended to ignore them using `self.save_hyperparameters(ignore=['logging_metrics'])`.\n",
            "  rank_zero_warn(\n",
            "/usr/local/lib/python3.10/dist-packages/pytorch_lightning/trainer/configuration_validator.py:108: PossibleUserWarning: You defined a `validation_step` but have no `val_dataloader`. Skipping val loop.\n",
            "  rank_zero_warn(\n",
            "/usr/local/lib/python3.10/dist-packages/pytorch_lightning/callbacks/model_checkpoint.py:613: UserWarning: Checkpoint directory /content/checkpoints exists and is not empty.\n",
            "  rank_zero_warn(f\"Checkpoint directory {dirpath} exists and is not empty.\")\n",
            "INFO:pytorch_lightning.callbacks.model_summary:\n",
            "  | Name                   | Type                   | Params\n",
            "------------------------------------------------------------------\n",
            "0 | loss                   | NormalDistributionLoss | 0     \n",
            "1 | logging_metrics        | ModuleList             | 0     \n",
            "2 | embeddings             | MultiEmbedding         | 35    \n",
            "3 | rnn                    | LSTM                   | 2.2 K \n",
            "4 | distribution_projector | Linear                 | 22    \n",
            "------------------------------------------------------------------\n",
            "2.3 K     Trainable params\n",
            "0         Non-trainable params\n",
            "2.3 K     Total params\n",
            "0.009     Total estimated model params size (MB)\n"
          ]
        },
        {
          "output_type": "display_data",
          "data": {
            "text/plain": [
              "Training: 0it [00:00, ?it/s]"
            ],
            "application/vnd.jupyter.widget-view+json": {
              "version_major": 2,
              "version_minor": 0,
              "model_id": "d0a845c9daaf4a0b992d2b2d34d4e720"
            }
          },
          "metadata": {}
        },
        {
          "output_type": "stream",
          "name": "stderr",
          "text": [
            "/usr/local/lib/python3.10/dist-packages/pytorch_lightning/loops/epoch/training_epoch_loop.py:445: RuntimeWarning: ReduceLROnPlateau conditioned on metric val_loss which is not available but strict is set to `False`. Skipping learning rate update.\n",
            "  rank_zero_warn(\n",
            "INFO:pytorch_lightning.utilities.rank_zero:`Trainer.fit` stopped: `max_epochs=5` reached.\n",
            "[Parallel(n_jobs=1)]: Done   3 tasks      | elapsed:  8.1min\n",
            "[Parallel(n_jobs=1)]: Done   3 tasks      | elapsed:  8.1min\n",
            "[Parallel(n_jobs=1)]: Done   1 tasks      | elapsed:    4.4s\n",
            "[Parallel(n_jobs=1)]: Done   2 tasks      | elapsed:    9.2s\n",
            "[Parallel(n_jobs=1)]: Done   3 tasks      | elapsed:   14.4s\n",
            "[Parallel(n_jobs=1)]: Done   3 tasks      | elapsed:   14.4s\n",
            "[Parallel(n_jobs=1)]: Done   1 tasks      | elapsed:    0.1s\n",
            "[Parallel(n_jobs=1)]: Done   2 tasks      | elapsed:    0.5s\n",
            "[Parallel(n_jobs=1)]: Done   3 tasks      | elapsed:    0.6s\n",
            "[Parallel(n_jobs=1)]: Done   3 tasks      | elapsed:    0.6s\n"
          ]
        }
      ]
    },
    {
      "cell_type": "code",
      "source": [
        "deepar_mae = metrics_deepar['MAE'].mean()\n",
        "print(f\"Усредненное значение MAE для DeepAR с FE: {deepar_mae:.3f}\")\n",
        "plot_backtest(forecast_deepar, ts, history_len=20)"
      ],
      "metadata": {
        "colab": {
          "base_uri": "https://localhost:8080/",
          "height": 545
        },
        "id": "x0sxJDrSVUKA",
        "outputId": "37f73da1-e251-4760-884e-91706b927db1"
      },
      "execution_count": 28,
      "outputs": [
        {
          "output_type": "stream",
          "name": "stdout",
          "text": [
            "Усредненное значение MAE для DeepAR с FE: 0.679\n"
          ]
        },
        {
          "output_type": "display_data",
          "data": {
            "text/plain": [
              "<Figure size 1000x500 with 1 Axes>"
            ],
            "image/png": "[encoded data removed]"
          },
          "metadata": {}
        }
      ]
    },
    {
      "cell_type": "code",
      "source": [
        "# Сбор метрик\n",
        "metrics = pd.DataFrame({\n",
        "    'Model': ['Baseline', 'ARIMA', 'Random Forest', 'RNN', 'DeepAR'],\n",
        "    'MAE': [baseline_mae, arima_mae, forest_mae, rnn_mae, deepar_mae]\n",
        "})\n",
        "\n",
        "print(metrics)"
      ],
      "metadata": {
        "colab": {
          "base_uri": "https://localhost:8080/"
        },
        "id": "wzvPga-JWSp7",
        "outputId": "c48ed262-3bd6-488d-b37e-27c4069e885c"
      },
      "execution_count": 29,
      "outputs": [
        {
          "output_type": "stream",
          "name": "stdout",
          "text": [
            "           Model        MAE\n",
            "0       Baseline  12.006171\n",
            "1          ARIMA  11.366921\n",
            "2  Random Forest   0.341056\n",
            "3            RNN   0.756232\n",
            "4         DeepAR   0.678970\n"
          ]
        }
      ]
    },
    {
      "cell_type": "markdown",
      "source": [
        "##Выводы\n",
        "1. Baseline:\n",
        "   - Модель Baseline MAE - 12.006171.\n",
        "   Значение довольно высокое, это говорит о том, что модель вполне может давать значения отличные от реальных. Можно предположить, что модель недостаточно хорошо адаптирована.\n",
        "\n",
        "2. ARIMA:\n",
        "   - У модели ARIMA MAE - 11.366921.\n",
        "   Значение довольно высокое, однако ниже, чем у базовой модели.\n",
        "\n",
        "3. Random Forest:\n",
        "   - Random Forest MAE – 0.341056.\n",
        "   Это говорит о высокой точности модели, прогнозы довольно точные.\n",
        "\n",
        "4. RNN:\n",
        "   - Рекуррентная нейронная сеть (RNN) MAE - 0.756232.\n",
        "   Показатель выше чем у Random Forest, однако является достаточно низким, чтобы говорит о том, что модель точна.\n",
        "\n",
        "5. DeepAR:\n",
        "   - DeepAR MAE - 0.678970.\n",
        "   Результат уступает Random Forest и RNN, однако он также достаточно низкий чтобы говорит о приемлимой точности модели.\n",
        "\n",
        "\n",
        "### Общие выводы:\n",
        "- Random Forest дает наилучшие результаты среди всех представленных моделей, демонстрируя наименьшую ошибку MAE.\n",
        "- RNN и DeepAR показывают достаточно хорошие результаты, но уступают Random Forest.\n",
        "- Модели Baseline и ARIMA имеют большую ошибку.\n"
      ],
      "metadata": {
        "id": "B6T_BWO3azem"
      }
    }
  ]
}